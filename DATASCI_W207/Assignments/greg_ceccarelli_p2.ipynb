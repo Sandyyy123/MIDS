{
 "cells": [
  {
   "cell_type": "markdown",
   "metadata": {},
   "source": [
    "# Project 2: Topic Classification"
   ]
  },
  {
   "cell_type": "markdown",
   "metadata": {},
   "source": [
    "In this project, you'll work with text data from newsgroup postings on a variety of topics. You'll train classifiers to distinguish between the topics based on the text of the posts. Whereas with digit classification, the input is relatively dense: a 28x28 matrix of pixels, many of which are non-zero, here we'll represent each document with a \"bag-of-words\" model. As you'll see, this makes the feature representation quite sparse -- only a few words of the total vocabulary are active in any given document. The bag-of-words assumption here is that the label depends only on the words; their order is not important.\n",
    "\n",
    "The SK-learn documentation on feature extraction will prove useful:\n",
    "http://scikit-learn.org/stable/modules/feature_extraction.html\n",
    "\n",
    "Each problem can be addressed succinctly with the included packages -- please don't add any more. Grading will be based on writing clean, commented code, along with a few short answers.\n",
    "\n",
    "As always, you're welcome to work on the project in groups and discuss ideas on the course wall, but please prepare your own write-up and write your own code."
   ]
  },
  {
   "cell_type": "code",
   "execution_count": 2,
   "metadata": {
    "collapsed": false
   },
   "outputs": [],
   "source": [
    "# This tells matplotlib not to try opening a new window for each plot.\n",
    "%matplotlib inline\n",
    "\n",
    "# General libraries.\n",
    "import re\n",
    "import numpy as np\n",
    "import matplotlib.pyplot as plt\n",
    "\n",
    "# SK-learn libraries for learning.\n",
    "from sklearn.pipeline import Pipeline\n",
    "from sklearn.neighbors import KNeighborsClassifier\n",
    "from sklearn.linear_model import LogisticRegression\n",
    "from sklearn.naive_bayes import BernoulliNB\n",
    "from sklearn.naive_bayes import MultinomialNB\n",
    "from sklearn.grid_search import GridSearchCV\n",
    "\n",
    "# SK-learn libraries for evaluation.\n",
    "from sklearn.metrics import confusion_matrix\n",
    "from sklearn import metrics\n",
    "from sklearn.metrics import classification_report\n",
    "\n",
    "# SK-learn library for importing the newsgroup data.\n",
    "from sklearn.datasets import fetch_20newsgroups\n",
    "\n",
    "# SK-learn libraries for feature extraction from text.\n",
    "from sklearn.feature_extraction.text import *"
   ]
  },
  {
   "cell_type": "markdown",
   "metadata": {},
   "source": [
    "Load the data, stripping out metadata so that we learn classifiers that only use textual features. By default, newsgroups data is split into train and test sets. We further split the test so we have a dev set. Note that we specify 4 categories to use for this project. If you remove the categories argument from the fetch function, you'll get all 20 categories."
   ]
  },
  {
   "cell_type": "code",
   "execution_count": 3,
   "metadata": {
    "collapsed": false
   },
   "outputs": [
    {
     "name": "stderr",
     "output_type": "stream",
     "text": [
      "WARNING:sklearn.datasets.twenty_newsgroups:Downloading dataset from http://people.csail.mit.edu/jrennie/20Newsgroups/20news-bydate.tar.gz (14 MB)\n"
     ]
    },
    {
     "name": "stdout",
     "output_type": "stream",
     "text": [
      "training label shape: (2034,)\n",
      "test label shape: (677,)\n",
      "dev label shape: (676,)\n",
      "labels names: ['alt.atheism', 'comp.graphics', 'sci.space', 'talk.religion.misc']\n"
     ]
    }
   ],
   "source": [
    "categories = ['alt.atheism', 'talk.religion.misc', 'comp.graphics', 'sci.space']\n",
    "newsgroups_train = fetch_20newsgroups(subset='train',\n",
    "                                      remove=('headers', 'footers', 'quotes'),\n",
    "                                      categories=categories)\n",
    "newsgroups_test = fetch_20newsgroups(subset='test',\n",
    "                                     remove=('headers', 'footers', 'quotes'),\n",
    "                                     categories=categories)\n",
    "\n",
    "num_test = len(newsgroups_test.target)\n",
    "test_data, test_labels = newsgroups_test.data[num_test/2:], newsgroups_test.target[num_test/2:]\n",
    "dev_data, dev_labels = newsgroups_test.data[:num_test/2], newsgroups_test.target[:num_test/2]\n",
    "train_data, train_labels = newsgroups_train.data, newsgroups_train.target\n",
    "\n",
    "print 'training label shape:', train_labels.shape\n",
    "print 'test label shape:', test_labels.shape\n",
    "print 'dev label shape:', dev_labels.shape\n",
    "print 'labels names:', newsgroups_train.target_names"
   ]
  },
  {
   "cell_type": "markdown",
   "metadata": {},
   "source": [
    "(1) For each of the first 5 training examples, print the text of the message along with the label."
   ]
  },
  {
   "cell_type": "code",
   "execution_count": 159,
   "metadata": {
    "collapsed": false
   },
   "outputs": [],
   "source": [
    "def line(length=80):\n",
    "    line = \"-\"\n",
    "    return(line * length + '\\n')"
   ]
  },
  {
   "cell_type": "code",
   "execution_count": 160,
   "metadata": {
    "collapsed": false
   },
   "outputs": [
    {
     "name": "stdout",
     "output_type": "stream",
     "text": [
      "Example #0\n",
      "--------------------------------------------------------------------------------\n",
      "\n",
      "Message Category #1, Message Label comp.graphics \n",
      "\n",
      "Message Text: \n",
      "\n",
      "Hi,\n",
      "\n",
      "I've noticed that if you only save a model (with all your mapping planes\n",
      "positioned carefully) to a .3DS file that when you reload it after restarting\n",
      "3DS, they are given a default position and orientation.  But if you save\n",
      "to a .PRJ file their positions/orientation are preserved.  Does anyone\n",
      "know why this information is not stored in the .3DS file?  Nothing is\n",
      "explicitly said in the manual about saving texture rules in the .PRJ file. \n",
      "I'd like to be able to read the texture rule information, does anyone have \n",
      "the format for the .PRJ file?\n",
      "\n",
      "Is the .CEL file format available from somewhere?\n",
      "\n",
      "Rych\n",
      "\n",
      "Example #1\n",
      "--------------------------------------------------------------------------------\n",
      "\n",
      "Message Category #3, Message Label talk.religion.misc \n",
      "\n",
      "Message Text: \n",
      "\n",
      "\n",
      "\n",
      "Seems to be, barring evidence to the contrary, that Koresh was simply\n",
      "another deranged fanatic who thought it neccessary to take a whole bunch of\n",
      "folks with him, children and all, to satisfy his delusional mania. Jim\n",
      "Jones, circa 1993.\n",
      "\n",
      "\n",
      "Nope - fruitcakes like Koresh have been demonstrating such evil corruption\n",
      "for centuries.\n",
      "\n",
      "Example #2\n",
      "--------------------------------------------------------------------------------\n",
      "\n",
      "Message Category #2, Message Label sci.space \n",
      "\n",
      "Message Text: \n",
      "\n",
      "\n",
      " >In article <1993Apr19.020359.26996@sq.sq.com>, msb@sq.sq.com (Mark Brader) \n",
      "\n",
      "MB>                                                             So the\n",
      "MB> 1970 figure seems unlikely to actually be anything but a perijove.\n",
      "\n",
      "JG>Sorry, _perijoves_...I'm not used to talking this language.\n",
      "\n",
      "Couldn't we just say periapsis or apoapsis?\n",
      "\n",
      " \n",
      "\n",
      "Example #3\n",
      "--------------------------------------------------------------------------------\n",
      "\n",
      "Message Category #0, Message Label alt.atheism \n",
      "\n",
      "Message Text: \n",
      "\n",
      "I have a request for those who would like to see Charley Wingate\n",
      "respond to the \"Charley Challenges\" (and judging from my e-mail, there\n",
      "appear to be quite a few of you.)  \n",
      "\n",
      "It is clear that Mr. Wingate intends to continue to post tangential or\n",
      "unrelated articles while ingoring the Challenges themselves.  Between\n",
      "the last two re-postings of the Challenges, I noted perhaps a dozen or\n",
      "more posts by Mr. Wingate, none of which answered a single Challenge.  \n",
      "\n",
      "It seems unmistakable to me that Mr. Wingate hopes that the questions\n",
      "will just go away, and he is doing his level best to change the\n",
      "subject.  Given that this seems a rather common net.theist tactic, I\n",
      "would like to suggest that we impress upon him our desire for answers,\n",
      "in the following manner:\n",
      "\n",
      "1. Ignore any future articles by Mr. Wingate that do not address the\n",
      "Challenges, until he answers them or explictly announces that he\n",
      "refuses to do so.\n",
      "\n",
      "--or--\n",
      "\n",
      "2. If you must respond to one of his articles, include within it\n",
      "something similar to the following:\n",
      "\n",
      "    \"Please answer the questions posed to you in the Charley Challenges.\"\n",
      "\n",
      "Really, I'm not looking to humiliate anyone here, I just want some\n",
      "honest answers.  You wouldn't think that honesty would be too much to\n",
      "ask from a devout Christian, would you?  \n",
      "\n",
      "Nevermind, that was a rhetorical question.\n",
      "\n"
     ]
    }
   ],
   "source": [
    "def P1(num_examples=5):\n",
    "### STUDENT START ###\n",
    "    for i in range(0,num_examples-1):\n",
    "        print \"Example #%d\" %(i)\n",
    "        print line()\n",
    "        print \"Message Category #%d, Message Label %s \\n\" %(train_labels[i], newsgroups_train.target_names[train_labels[i]])\n",
    "        print \"Message Text: \\n\"\n",
    "        print train_data[i] + \"\\n\"\n",
    "### STUDENT END ###\n",
    "P1()"
   ]
  },
  {
   "cell_type": "markdown",
   "metadata": {},
   "source": [
    "(2) Use CountVectorizer to turn the raw training text into feature vectors. You should use the fit_transform function, which makes 2 passes through the data: first it computes the vocabulary (\"fit\"), second it converts the raw text into feature vectors using the vocabulary (\"transform\").\n",
    "\n",
    "The vectorizer has a lot of options. To get familiar with some of them, write code to answer these questions:\n",
    "\n",
    "a. The output of the transform (also of fit_transform) is a sparse matrix: http://docs.scipy.org/doc/scipy-0.14.0/reference/generated/scipy.sparse.csr_matrix.html. What is the size of the vocabulary? What is the average number of non-zero features per example? What fraction of the entries in the matrix are non-zero? Hint: use \"nnz\" and \"shape\" attributes.\n",
    "\n",
    "b. What are the 0th and last feature strings (in alphabetical order)? Hint: use the vectorizer's get_feature_names function.\n",
    "\n",
    "c. Specify your own vocabulary with 4 words: [\"atheism\", \"graphics\", \"space\", \"religion\"]. Confirm the training vectors are appropriately shaped. Now what's the average number of non-zero features per example?\n",
    "\n",
    "d. Instead of extracting unigram word features, use \"analyzer\" and \"ngram_range\" to extract bigram and trigram character features. What size vocabulary does this yield?\n",
    "\n",
    "e. Use the \"min_df\" argument to prune words that appear in fewer than 10 documents. What size vocabulary does this yield?\n",
    "\n",
    "f. Using the standard CountVectorizer, what fraction of the words in the dev data are missing from the vocabulary? Hint: build a vocabulary for both train and dev and look at the size of the difference."
   ]
  },
  {
   "cell_type": "code",
   "execution_count": 161,
   "metadata": {
    "collapsed": false,
    "scrolled": false
   },
   "outputs": [
    {
     "name": "stdout",
     "output_type": "stream",
     "text": [
      "Part A\n",
      "--------------------------------------------------------------------------------\n",
      "\n",
      "1. Vocabulary size: 26879 words.\n",
      "2. Average number of nonzero features: 96.71 words.\n",
      "3. The fraction of non-zero entries as a percentage: 0.36.\n",
      "\n",
      "Part B\n",
      "--------------------------------------------------------------------------------\n",
      "\n",
      "1. The 0th feature string (in alphabetical order) is '00'\n",
      "2. The last feature string (in alphabetical order) is 'zyxel'\n",
      "\n",
      "Part C\n",
      "--------------------------------------------------------------------------------\n",
      "\n",
      "1. Sparse Mat Shape: (2034, 4)\n",
      "2. Average number of nonzero features: 0.27 words.\n",
      "3. The fraction of non-zero entries as a percentage: 6.71.\n",
      "\n",
      "Part D\n",
      "--------------------------------------------------------------------------------\n",
      "\n",
      "1. Vocab Size: 35478 words.\n",
      "\n",
      " Part E\n",
      "--------------------------------------------------------------------------------\n",
      "\n",
      "1. Vocab Size: 3064 words.\n",
      "\n",
      " Part F\n",
      "--------------------------------------------------------------------------------\n",
      "\n",
      "1. Training Vocab is 26879 words.\n",
      "2. Dev Vocab is 16246 words.\n",
      "3. Fraction of words missing 24.79% \n"
     ]
    }
   ],
   "source": [
    "def P2():\n",
    "### STUDENT START ###\n",
    "\n",
    "    print \"Part A\"\n",
    "    print line()\n",
    "    cv = CountVectorizer()\n",
    "    sparse_mat = cv.fit_transform(train_data)\n",
    "    print \"1. Vocabulary size: %d words.\" %sparse_mat.shape[1]\n",
    "    print \"2. Average number of nonzero features: %.2f words.\" % (sparse_mat.nnz / float(sparse_mat.shape[0]))\n",
    "    print \"3. The fraction of non-zero entries as a percentage: %.2f.\" % (round(sparse_mat.nnz / (float(sparse_mat.shape[0] * sparse_mat.shape[1]))*100,2))\n",
    "\n",
    "\n",
    "    print \"\\nPart B\"\n",
    "    print line()\n",
    "    features = cv.get_feature_names()\n",
    "    print \"1. The 0th feature string (in alphabetical order) is '%s'\" %features[0]\n",
    "    print \"2. The last feature string (in alphabetical order) is '%s'\" %features[-1]\n",
    "\n",
    "    print \"\\nPart C\"\n",
    "    print line()\n",
    "    vocab = [\"atheism\", \"graphics\", \"space\", \"religion\"]\n",
    "    cv = CountVectorizer(vocabulary = vocab)\n",
    "    sparse_mat = new_cv.fit_transform(train_data)\n",
    "    print \"1. Sparse Mat Shape: %s\" % (sparse_mat.shape,)\n",
    "    print \"2. Average number of nonzero features: %.2f words.\" % (sparse_mat.nnz / float(sparse_mat.shape[0]))\n",
    "    ##expect this to be MUCH higher\n",
    "    print \"3. The fraction of non-zero entries as a percentage: %.2f.\" % (round(sparse_mat.nnz / (float(sparse_mat.shape[0] * sparse_mat.shape[1]))*100,2))\n",
    "\n",
    "    print \"\\nPart D\"\n",
    "    print line()\n",
    "    cv = CountVectorizer(analyzer='char', ngram_range=(2,3))\n",
    "    sparse_mat = cv.fit_transform(train_data)\n",
    "    print \"1. Vocab Size: %d words.\" %sparse_mat.shape[1]\n",
    "\n",
    "    print \"\\n Part E\"\n",
    "    print line()\n",
    "    cv = CountVectorizer(min_df=10)\n",
    "    sparse_mat = cv.fit_transform(train_data)\n",
    "    print \"1. Vocab Size: %d words.\" %sparse_mat.shape[1]\n",
    "\n",
    "    print \"\\n Part F\"\n",
    "    print line()\n",
    "    cv_train = CountVectorizer()\n",
    "    cv_dev = CountVectorizer()\n",
    "\n",
    "\n",
    "    #build  model w/ training data\n",
    "    sparse_mat_train = cv_train.fit_transform(train_data)\n",
    "\n",
    "    #build model w/ dev data\n",
    "    sparse_mat_dev = cv_dev.fit_transform(dev_data)\n",
    "\n",
    "    print \"1. Training Vocab is %d words.\" %sparse_mat_train.shape[1]\n",
    "    print \"2. Dev Vocab is %d words.\" %sparse_mat_dev.shape[1]\n",
    "\n",
    "    count_words_not_in_dev = len(set(cv_dev.get_feature_names()) - set(cv_train.get_feature_names()))\n",
    "\n",
    "    print \"3. Fraction of words missing %.2f%% \" % (round(count_words_not_in_dev / float(sparse_mat_dev.shape[1]) *100,2))\n",
    "\n",
    "                \n",
    "# ### STUDENT END ###\n",
    "P2()"
   ]
  },
  {
   "cell_type": "code",
   "execution_count": 95,
   "metadata": {
    "collapsed": false
   },
   "outputs": [
    {
     "data": {
      "text/plain": [
       "array([ 68,  47,  38, ...,  40, 125,   0], dtype=int32)"
      ]
     },
     "execution_count": 95,
     "metadata": {},
     "output_type": "execute_result"
    }
   ],
   "source": [
    "cv = CountVectorizer()\n",
    "sparse_mat = cv.fit_transform(train_data)\n",
    "sparse_mat.getnnz(1)"
   ]
  },
  {
   "cell_type": "code",
   "execution_count": null,
   "metadata": {
    "collapsed": true
   },
   "outputs": [],
   "source": [
    "#cv.get_feature_names()\n",
    "test = cv.get_feature_names()\n",
    "test[6887]\n",
    "\n",
    "test1 = sparse_mat.getrow(1)\n",
    "test1.indices\n",
    "\n",
    "for idx, val in enumerate(test1.indices):\n",
    "    print test[val]"
   ]
  },
  {
   "cell_type": "code",
   "execution_count": 51,
   "metadata": {
    "collapsed": false
   },
   "outputs": [
    {
     "name": "stdout",
     "output_type": "stream",
     "text": [
      "(2034, 26879)\n"
     ]
    }
   ],
   "source": [
    "print ft"
   ]
  },
  {
   "cell_type": "markdown",
   "metadata": {},
   "source": [
    "(3) Use the default CountVectorizer options and report the f1 score (use metrics.f1_score) for a k nearest neighbors classifier; find the optimal value for k. Also fit a Multinomial Naive Bayes model and find the optimal value for alpha. Finally, fit a logistic regression model and find the optimal value for the regularization strength C using l2 regularization. A few questions:\n",
    "\n",
    "a. Why doesn't nearest neighbors work well for this problem?\n",
    "\n",
    "b. Any ideas why logistic regression doesn't work as well as Naive Bayes?\n",
    "\n",
    "c. Logistic regression estimates a weight vector for each class, which you can access with the coef\\_ attribute. Output the sum of the squared weight values for each class for each setting of the C parameter. Briefly explain the relationship between the sum and the value of C."
   ]
  },
  {
   "cell_type": "code",
   "execution_count": 162,
   "metadata": {
    "collapsed": false
   },
   "outputs": [
    {
     "name": "stdout",
     "output_type": "stream",
     "text": [
      "\n",
      " Part A: KNN\n",
      "--------------------------------------------------------------------------------\n",
      "\n",
      "Best: {'n_neighbors': 19} with accuracy 0.4162\n",
      "\n",
      " Part b: Multinomial NB\n",
      "--------------------------------------------------------------------------------\n",
      "\n",
      "Best: {'alpha': 0.01} with accuracy 0.8287\n",
      "\n",
      " Part c: Penalized Regression\n",
      "--------------------------------------------------------------------------------\n",
      "\n",
      "Best: {'C': 0.25} with accuracy 0.7679\n",
      "\n",
      "\n",
      "C = 0.250000, Accuracy = 0.708058\n",
      "[ 59.80517871  50.61764425  58.95521892  51.48001019]\n",
      "\n",
      "\n",
      "C = 0.500000, Accuracy = 0.708474\n",
      "[ 102.62144048   83.10348285   99.02069038   88.99275007]\n",
      "\n",
      "\n",
      "C = 0.750000, Accuracy = 0.692467\n",
      "[ 137.3188418   108.97681678  130.97051009  119.48949713]\n",
      "\n",
      "\n",
      "C = 1.000000, Accuracy = 0.694417\n",
      "[ 166.97755478  130.90016943  157.95888557  145.74392086]\n",
      "\n",
      "\n",
      "C = 1.250000, Accuracy = 0.694841\n",
      "[ 193.11000856  150.27994931  181.53253414  168.92481973]\n",
      "\n",
      "\n",
      "C = 1.500000, Accuracy = 0.689000\n",
      "[ 216.56092836  167.53979719  202.84894395  189.82528391]\n",
      "\n",
      "\n",
      "C = 1.750000, Accuracy = 0.693741\n",
      "[ 237.67994473  183.38172238  222.09234798  208.87440255]\n",
      "\n",
      "\n",
      "C = 2.000000, Accuracy = 0.694039\n",
      "[ 257.61285438  197.92114303  239.78105298  226.59906295]\n",
      "\n",
      "\n",
      "C = 2.250000, Accuracy = 0.692575\n",
      "[ 275.97335085  211.50327879  256.2795914   243.0880597 ]\n",
      "\n",
      "\n",
      "C = 2.500000, Accuracy = 0.692428\n",
      "[ 292.75587449  224.17754981  271.9340772   258.51452733]\n",
      "\n",
      "\n",
      "C = 2.750000, Accuracy = 0.691044\n",
      "[ 309.00467452  236.31180224  286.39903488  273.15706612]\n",
      "\n",
      "\n",
      "C = 3.000000, Accuracy = 0.691044\n",
      "[ 323.89045795  247.24222238  299.7780692   287.13227595]\n",
      "\n",
      "\n",
      "C = 3.250000, Accuracy = 0.688020\n",
      "[ 338.23790409  258.21025428  313.13214747  300.0716579 ]\n",
      "\n",
      "\n",
      "C = 3.500000, Accuracy = 0.687879\n",
      "[ 352.12383793  268.42950532  325.38350242  312.36290239]\n",
      "\n",
      "\n",
      "C = 3.750000, Accuracy = 0.689437\n",
      "[ 365.27637777  278.54861713  337.36660064  324.35651515]\n",
      "\n",
      "\n",
      "C = 4.000000, Accuracy = 0.687879\n",
      "[ 377.71684226  288.31138622  348.48949897  335.872404  ]\n",
      "\n",
      "\n",
      "C = 4.250000, Accuracy = 0.689364\n",
      "[ 389.54483885  297.05902931  359.5136673   347.15697349]\n",
      "\n",
      "\n",
      "C = 4.500000, Accuracy = 0.692630\n",
      "[ 401.13035028  305.85443373  370.2799858   357.20350882]\n",
      "\n",
      "\n",
      "C = 4.750000, Accuracy = 0.690925\n",
      "[ 411.99379292  314.65050544  380.10445183  367.78852847]\n",
      "\n",
      "\n"
     ]
    }
   ],
   "source": [
    "def P3():\n",
    "### STUDENT START ###\n",
    "\n",
    "    #class instantiation\n",
    "    cv = CountVectorizer()\n",
    "\n",
    "    #learn vocab dictionary\n",
    "    sparse_mat = cv.fit_transform(train_data)\n",
    "\n",
    "    #define quick wrapper function\n",
    "    def gridsearch(classifier, param_grid, scoring='f1_weighted'):\n",
    "        gs = GridSearchCV(classifier, param_grid, scoring)\n",
    "        gs.fit(sparse_mat, train_labels)\n",
    "        return([gs.best_params_, gs.best_score_])\n",
    "\n",
    "    #define grid search parameters\n",
    "    knn_param = {'n_neighbors': range(1,20)}\n",
    "    mnb_param = {'alpha': [0.0, 0.0001, 0.001, 0.01, 0.1, 0.5, 1.0, 2.0, 10.0]}\n",
    "    plr_param = {'C': np.arange(0.25, 5, 0.25)}\n",
    "\n",
    "    #fit models\n",
    "    print \"\\n Part A: KNN\"\n",
    "    print line()\n",
    "    knn = gridsearch(KNeighborsClassifier(), knn_param)\n",
    "    print \"Best: %s with accuracy %.4f\" % (knn[0], knn[1])\n",
    "\n",
    "    print \"\\n Part b: Multinomial NB\"\n",
    "    print line()\n",
    "    mnb = gridsearch(MultinomialNB(), mnb_param)\n",
    "    print \"Best: %s with accuracy %.4f\" % (mnb[0], mnb[1])\n",
    "\n",
    "    print \"\\n Part c: Penalized Regression\"\n",
    "    print line()\n",
    "    plr = gridsearch(LogisticRegression(penalty='l2'), plr_param)\n",
    "    print \"Best: %s with accuracy %.4f\" % (plr[0], plr[1])\n",
    "    print \"\\n\"\n",
    "    # Report out on the accuracies \n",
    "    for c in plr_param['C']:\n",
    "        model = LogisticRegression(C=c, penalty='l2')\n",
    "        model.fit(sparse_mat, train_labels)\n",
    "        predict_dev = model.predict(cv.transform(dev_data))\n",
    "        print \"C = %f, Accuracy = %f\" % (c, metrics.f1_score(dev_labels, predict_dev, average='weighted'))\n",
    "        print np.sum(model.coef_**2, axis=1)\n",
    "        print \"\\n\"\n",
    "\n",
    "\n",
    "### STUDENT END ###\n",
    "P3()"
   ]
  },
  {
   "cell_type": "markdown",
   "metadata": {},
   "source": [
    "ANSWER:"
   ]
  },
  {
   "cell_type": "markdown",
   "metadata": {},
   "source": [
    "(4) Train a logistic regression model. Find the 5 features with the largest weights for each label -- 20 features in total. Create a table with 20 rows and 4 columns that shows the weight for each of these features for each of the labels. Create the table again with bigram features. Any surprising features in this table?"
   ]
  },
  {
   "cell_type": "code",
   "execution_count": 221,
   "metadata": {
    "collapsed": false
   },
   "outputs": [
    {
     "name": "stdout",
     "output_type": "stream",
     "text": [
      "            ['alt.atheism', 'comp.graphics', 'sci.space', 'talk.religion.misc']\n",
      "islam       [0.562789997538 -0.0965687174455 -0.229953582418 -0.232211700715]\n",
      "atheism     [0.657037419194 -0.288323110405 -0.289801734147 -0.327085456402]\n",
      "atheists    [0.657219772063 -0.0889383409102 -0.217346253141 -0.468192702889]\n",
      "religion    [0.657337096801 -0.410745469758 -0.536794333485 -0.0277585299963]\n",
      "bobby       [0.667508309574 -0.160997288874 -0.233053622069 -0.315221870578]\n",
      "computer    [0.0109384681592 0.719382908141 -0.460662339579 -0.3169376079]\n",
      "3d          [-0.249027480386 0.765342027341 -0.450607619141 -0.256902637536]\n",
      "file        [-0.227324228231 0.867445988537 -0.564952796066 -0.402737218303]\n",
      "image       [-0.370281242719 0.900180457812 -0.530174731498 -0.303047952898]\n",
      "graphics    [-0.534888696715 1.34176223142 -0.891980636904 -0.506467154892]\n",
      "spacecraft  [-0.241105926968 -0.258161369858 0.572710455648 -0.217108230341]\n",
      "launch      [-0.296922434929 -0.329587082918 0.643359750279 -0.230276808006]\n",
      "orbit       [-0.290011076708 -0.455971063163 0.820032149537 -0.380039468098]\n",
      "space       [-0.87530734185 -0.931297988403 1.58918463007 -0.793806620371]\n",
      "nasa        [-0.372475420704 -0.343913388809 0.707199771483 -0.336110589612]\n",
      "order       [-0.514673163183 -0.0525701230714 -0.103781107605 0.597462233232]\n",
      "fbi         [-0.186579567772 -0.16701232088 -0.305541245589 0.604432386641]\n",
      "blood       [-0.327596423164 -0.0832473213789 -0.162234558006 0.654761928753]\n",
      "christians  [-0.48125786178 -0.240281929404 -0.304983833081 0.728117831498]\n",
      "christian   [-0.3751644909 -0.269301386888 -0.227875072819 0.749018819361]\n",
      "\n",
      "\n",
      "            ['alt.atheism', 'comp.graphics', 'sci.space', 'talk.religion.misc']\n",
      "islam       [0.562789997538 -0.0965687174455 -0.229953582418 -0.232211700715]\n",
      "atheism     [0.657037419194 -0.288323110405 -0.289801734147 -0.327085456402]\n",
      "atheists    [0.657219772063 -0.0889383409102 -0.217346253141 -0.468192702889]\n",
      "religion    [0.657337096801 -0.410745469758 -0.536794333485 -0.0277585299963]\n",
      "bobby       [0.667508309574 -0.160997288874 -0.233053622069 -0.315221870578]\n",
      "computer    [0.0109384681592 0.719382908141 -0.460662339579 -0.3169376079]\n",
      "3d          [-0.249027480386 0.765342027341 -0.450607619141 -0.256902637536]\n",
      "file        [-0.227324228231 0.867445988537 -0.564952796066 -0.402737218303]\n",
      "image       [-0.370281242719 0.900180457812 -0.530174731498 -0.303047952898]\n",
      "graphics    [-0.534888696715 1.34176223142 -0.891980636904 -0.506467154892]\n",
      "spacecraft  [-0.241105926968 -0.258161369858 0.572710455648 -0.217108230341]\n",
      "launch      [-0.296922434929 -0.329587082918 0.643359750279 -0.230276808006]\n",
      "orbit       [-0.290011076708 -0.455971063163 0.820032149537 -0.380039468098]\n",
      "space       [-0.87530734185 -0.931297988403 1.58918463007 -0.793806620371]\n",
      "nasa        [-0.372475420704 -0.343913388809 0.707199771483 -0.336110589612]\n",
      "order       [-0.514673163183 -0.0525701230714 -0.103781107605 0.597462233232]\n",
      "fbi         [-0.186579567772 -0.16701232088 -0.305541245589 0.604432386641]\n",
      "blood       [-0.327596423164 -0.0832473213789 -0.162234558006 0.654761928753]\n",
      "christians  [-0.48125786178 -0.240281929404 -0.304983833081 0.728117831498]\n",
      "christian   [-0.3751644909 -0.269301386888 -0.227875072819 0.749018819361]\n"
     ]
    }
   ],
   "source": [
    "def P4():\n",
    "### STUDENT START ###\n",
    "    def f(CV, Model, td, labels, targetnames):\n",
    "        cv = CV\n",
    "        #learn vocab\n",
    "        sparse_mat = cv.fit_transform(td)\n",
    "        #get names\n",
    "        names = np.array(cv.get_feature_names())\n",
    "        #instantiate model\n",
    "        model = Model\n",
    "        #fit model\n",
    "        model.fit(sparse_mat, labels)\n",
    "        #save coeficients\n",
    "        coefs = model.coef_\n",
    "        #find indiices of top five coefficients \n",
    "        indicies = np.argpartition(coefs, -5)[:,-5:].flatten()\n",
    "\n",
    "        cols = len(np.unique(labels))\n",
    "        table = np.zeros((20, cols))\n",
    "        for idx in range(0, cols):\n",
    "            table[:,idx] = coefs[idx,indicies]\n",
    "\n",
    "        def pad(vals, row):\n",
    "            ml = np.amax(len(vals))\n",
    "            pad = (ml - 10 - len(row))\n",
    "            return(\" \" * pad)\n",
    "\n",
    "        #print everything out\n",
    "        print \" \" * 11, targetnames\n",
    "        for row_label, row in zip(names[indicies], table):\n",
    "            print '%s %s [%s]' % (row_label, pad(names[indicies], row_label), ' '.join('%03s' % i for i in row))\n",
    "\n",
    "    f(CountVectorizer(), LogisticRegression(C=.25, penalty='l2'), train_data, train_labels, newsgroups_train.target_names)\n",
    "    print \"\\n\"\n",
    "    f(CountVectorizer(), LogisticRegression(C=.25, penalty='l2'), train_data, train_labels, newsgroups_train.target_names)\n",
    "\n",
    "### STUDENT END ###\n",
    "P4()"
   ]
  },
  {
   "cell_type": "markdown",
   "metadata": {},
   "source": [
    "ANSWER:"
   ]
  },
  {
   "cell_type": "markdown",
   "metadata": {},
   "source": [
    "(5) Try to improve the logistic regression classifier by passing a custom preprocessor to CountVectorizer. The preprocessing function runs on the raw text, before it is split into words by the tokenizer. Your preprocessor should try to normalize the input in various ways to improve generalization. For example, try lowercasing everything, replacing sequences of numbers with a single token, removing various other non-letter characters, and shortening long words. If you're not already familiar with regular expressions for manipulating strings, see https://docs.python.org/2/library/re.html, and re.sub() in particular. With your new preprocessor, how much did you reduce the size of the dictionary?\n",
    "\n",
    "For reference, I was able to improve dev F1 by 2 points."
   ]
  },
  {
   "cell_type": "code",
   "execution_count": 231,
   "metadata": {
    "collapsed": false
   },
   "outputs": [
    {
     "name": "stdout",
     "output_type": "stream",
     "text": [
      "No preprocessing:\n",
      "--------------------------------------------------------------------------------\n",
      "\n",
      "Vocab size: 33291 words\n",
      "Model Accuracy: 0.704429\n",
      "\n",
      "\n",
      "With preprocessing:\n",
      "--------------------------------------------------------------------------------\n",
      "\n",
      "Vocab size: 22244 words\n",
      "Model Accuracy: 0.722269\n",
      "\n",
      "\n",
      "Model Improvements\n",
      "--------------------------------------------------------------------------------\n",
      "\n",
      "Vocab reduction: 33290.2777307 words, Accuracy Increase: 0.017840\n"
     ]
    }
   ],
   "source": [
    "def empty_preprocessor(s):\n",
    "    return s\n",
    "\n",
    "def better_preprocessor(s):\n",
    "### STUDENT START ###\n",
    "    s = s.lower()\n",
    "    regex_list = [(r'\\b[0-9]+[.,]*[0-9]+\\b','not words'),(r'[><_]',''),(r's\\b','')]\n",
    "    for idx, val in enumerate(regex_list):\n",
    "        s = re.sub(val[0],val[1],s)\n",
    "    return s\n",
    "\n",
    "### STUDENT END ###\n",
    "\n",
    "def P5():\n",
    "### STUDENT START ###\n",
    "    def  f(CV, Model, td, labels, devdata, devlabels):\n",
    "        cv = CV\n",
    "        #learn vocab\n",
    "        sparse_mat = cv.fit_transform(td)\n",
    "        #get names\n",
    "        names = np.array(cv.get_feature_names())\n",
    "        #instantiate model\n",
    "        model = Model\n",
    "        #fit model\n",
    "        model.fit(sparse_mat, labels)\n",
    "        #transform dev data\n",
    "        devdata = cv.transform(devdata)\n",
    "        \n",
    "        print \"Vocab size: %d words\" %(sparse_mat.shape[1])\n",
    "        accuracy = metrics.f1_score(devlabels, model.predict(devdata), average='weighted')\n",
    "        print \"Model Accuracy: %f\" % (accuracy)\n",
    "        return (sparse_mat.shape[1], accuracy)\n",
    "    \n",
    "    print \"No preprocessing:\"\n",
    "    print line()\n",
    "    npp = f(CountVectorizer(preprocessor=empty_preprocessor), LogisticRegression(C=.25, penalty='l2'), train_data, train_labels, dev_data, dev_labels)\n",
    "    print \"\\n\"\n",
    "    print \"With preprocessing:\"\n",
    "    print line()\n",
    "    wpp = f(CountVectorizer(preprocessor=better_preprocessor), LogisticRegression(C=.25, penalty='l2'), train_data, train_labels, dev_data, dev_labels)\n",
    "    print \"\\n\"\n",
    "    print \"Model Improvements\"\n",
    "    print line()\n",
    "    print \"Vocab reduction: %s words, Accuracy Increase: %f\" % (npp[0] - wpp[1], wpp[1] - npp[1])\n",
    "\n",
    "\n",
    "### STUDENT END ###\n",
    "P5()"
   ]
  },
  {
   "cell_type": "code",
   "execution_count": 222,
   "metadata": {
    "collapsed": false
   },
   "outputs": [
    {
     "name": "stdout",
     "output_type": "stream",
     "text": [
      "3\n"
     ]
    }
   ],
   "source": [
    "re_list = [(r'\\b[0-9]+[.,]*[0-9]+\\b','not words'),(r'[><_]',''),(r's\\b','')]\n",
    "\n",
    "print len(re_list)"
   ]
  },
  {
   "cell_type": "markdown",
   "metadata": {},
   "source": [
    "(6) The idea of regularization is to avoid learning very large weights (which are likely to fit the training data, but not generalize well) by adding a penalty to the total size of the learned weights. That is, logistic regression seeks the set of weights that minimizes errors in the training data AND has a small size. The default regularization, L2, computes this size as the sum of the squared weights (see P3, above). L1 regularization computes this size as the sum of the absolute values of the weights. The result is that whereas L2 regularization makes all the weights relatively small, L1 regularization drives lots of the weights to 0, effectively removing unimportant features.\n",
    "\n",
    "Train a logistic regression model using a \"l1\" penalty. Output the number of learned weights that are not equal to zero. How does this compare to the number of non-zero weights you get with \"l2\"? Now, reduce the size of the vocabulary by keeping only those features that have at least one non-zero weight and retrain a model using \"l2\".\n",
    "\n",
    "Make a plot showing accuracy of the re-trained model vs. the vocabulary size you get when pruning unused features by adjusting the C parameter.\n",
    "\n",
    "Note: The gradient descent code that trains the logistic regression model sometimes has trouble converging with extreme settings of the C parameter. Relax the convergence criteria by setting tol=.01 (the default is .0001)."
   ]
  },
  {
   "cell_type": "code",
   "execution_count": 15,
   "metadata": {
    "collapsed": false
   },
   "outputs": [],
   "source": [
    "#def P6():\n",
    "    # Keep this random seed here to make comparison easier.\n",
    "    #np.random.seed(0)\n",
    "\n",
    "    ### STUDENT START ###\n",
    "    \n",
    "    ### STUDENT END ###\n",
    "#P6()"
   ]
  },
  {
   "cell_type": "markdown",
   "metadata": {},
   "source": [
    "(7) Use the TfidfVectorizer -- how is this different from the CountVectorizer? Train a logistic regression model with C=100.\n",
    "\n",
    "Make predictions on the dev data and show the top 3 documents where the ratio R is largest, where R is:\n",
    "\n",
    "maximum predicted probability / predicted probability of the correct label\n",
    "\n",
    "What kinds of mistakes is the model making? Suggest a way to address one particular issue that you see."
   ]
  },
  {
   "cell_type": "code",
   "execution_count": 16,
   "metadata": {
    "collapsed": false
   },
   "outputs": [],
   "source": [
    "#def P7():\n",
    "### STUDENT START ###\n",
    "\n",
    "## STUDENT END ###\n",
    "#P7()"
   ]
  },
  {
   "cell_type": "markdown",
   "metadata": {},
   "source": [
    "ANSWER:"
   ]
  },
  {
   "cell_type": "markdown",
   "metadata": {},
   "source": [
    "(8) EXTRA CREDIT\n",
    "\n",
    "Try implementing one of your ideas based on your error analysis. Use logistic regression as your underlying model."
   ]
  },
  {
   "cell_type": "code",
   "execution_count": null,
   "metadata": {
    "collapsed": true
   },
   "outputs": [],
   "source": []
  }
 ],
 "metadata": {
  "kernelspec": {
   "display_name": "Python 2",
   "language": "python",
   "name": "python2"
  },
  "language_info": {
   "codemirror_mode": {
    "name": "ipython",
    "version": 2
   },
   "file_extension": ".py",
   "mimetype": "text/x-python",
   "name": "python",
   "nbconvert_exporter": "python",
   "pygments_lexer": "ipython2",
   "version": "2.7.11"
  }
 },
 "nbformat": 4,
 "nbformat_minor": 0
}
