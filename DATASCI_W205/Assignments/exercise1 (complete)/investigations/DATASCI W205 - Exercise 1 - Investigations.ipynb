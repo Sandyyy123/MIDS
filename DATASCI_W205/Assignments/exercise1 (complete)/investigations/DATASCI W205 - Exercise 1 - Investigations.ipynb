{
 "cells": [
  {
   "cell_type": "markdown",
   "metadata": {},
   "source": [
    "##DATASCI W205 - Exercise 1 - Investigations"
   ]
  },
  {
   "cell_type": "code",
   "execution_count": 1,
   "metadata": {
    "collapsed": false
   },
   "outputs": [],
   "source": [
    "##Import pyspark.sql and hivecontext\n",
    "from pyspark.sql import *\n",
    "sqlContext = HiveContext(sc)\n"
   ]
  },
  {
   "cell_type": "code",
   "execution_count": 2,
   "metadata": {
    "collapsed": false
   },
   "outputs": [
    {
     "data": {
      "text/plain": [
       "[Row(tableName=u'effective_care', isTemporary=False),\n",
       " Row(tableName=u'hosp_patientexperience', isTemporary=False),\n",
       " Row(tableName=u'hosp_surveys', isTemporary=False),\n",
       " Row(tableName=u'hosp_totalperformance', isTemporary=False),\n",
       " Row(tableName=u'hospitals', isTemporary=False),\n",
       " Row(tableName=u'measuredates', isTemporary=False),\n",
       " Row(tableName=u'readmissionreduction', isTemporary=False),\n",
       " Row(tableName=u'readmissions', isTemporary=False),\n",
       " Row(tableName=u't_hospitals', isTemporary=False),\n",
       " Row(tableName=u't_hospitalseffectivecare', isTemporary=False),\n",
       " Row(tableName=u't_hospitalseffectivecareranges', isTemporary=False),\n",
       " Row(tableName=u't_hospitalspatientexperiencescaledscore', isTemporary=False),\n",
       " Row(tableName=u't_hospitalsreadmissionratios', isTemporary=False),\n",
       " Row(tableName=u't_hospitalsreadmissionsscaledscoresbycat', isTemporary=False),\n",
       " Row(tableName=u't_hospitalstypecountsgranular', isTemporary=False),\n",
       " Row(tableName=u't_measuredates', isTemporary=False)]"
      ]
     },
     "execution_count": 2,
     "metadata": {},
     "output_type": "execute_result"
    }
   ],
   "source": [
    "##Check out all tables available in warehouse\n",
    "sqlContext.sql(\"show tables\").take(100) "
   ]
  },
  {
   "cell_type": "markdown",
   "metadata": {
    "collapsed": false
   },
   "source": [
    "#### Question 1: What hospitals are models of high-quality care—that is, which hospitals have the most consistently high scores for a variety of procedures?"
   ]
  },
  {
   "cell_type": "code",
   "execution_count": 3,
   "metadata": {
    "collapsed": false
   },
   "outputs": [],
   "source": [
    "t_measuredates = sqlContext.sql(\"select * from t_measuredates\")"
   ]
  },
  {
   "cell_type": "code",
   "execution_count": 13,
   "metadata": {
    "collapsed": false
   },
   "outputs": [],
   "source": [
    "new_df = t_measuredates.toPandas()"
   ]
  },
  {
   "cell_type": "code",
   "execution_count": 4,
   "metadata": {
    "collapsed": false
   },
   "outputs": [
    {
     "name": "stdout",
     "output_type": "stream",
     "text": [
      "measurename          measureid     measurestartquarter measureendquarter\n",
      "ACS Participation... ACS_REGISTRY  3Q2013              2Q2014           \n",
      "Statin Prescribed... AMI_10        4Q2013              3Q2014           \n",
      "Aspirin Prescribe... AMI_2         4Q2013              3Q2014           \n",
      "Fibrinolytic Ther... AMI_7a        4Q2013              3Q2014           \n",
      "Primary PCI Recei... AMI_8a        4Q2013              3Q2014           \n",
      "Relievers for Inp... CAC_1         4Q2013              3Q2014           \n",
      "Systemic Corticos... CAC_2         4Q2013              3Q2014           \n",
      "Home Management P... CAC_3         4Q2013              3Q2014           \n",
      "Complication Rate... COMP_HIP_KNEE 2Q2011              1Q2014           \n",
      "Median Time from ... ED_1b         4Q2013              3Q2014           \n",
      "Admit Decision Ti... ED_2b         4Q2013              3Q2014           \n",
      "Emergency Departm... EDV           1Q2013              4Q2013           \n",
      "Central Line Asso... HAI_1         4Q2013              3Q2014           \n",
      "Catheter Associat... HAI_2         4Q2013              3Q2014           \n",
      "SSI - Colon Surgery  HAI_3         4Q2013              3Q2014           \n",
      "SSI - Abdominal H... HAI_4         4Q2013              3Q2014           \n",
      "MRSA Bacteremia      HAI_5         4Q2013              3Q2014           \n",
      "Clostridium Diffi... HAI_6         4Q2013              3Q2014           \n",
      "Patient satisfact... HCAHPS        4Q2013              3Q2014           \n",
      "Discharge Instruc... HF_1          4Q2013              3Q2014           \n"
     ]
    }
   ],
   "source": [
    "t_measuredates.show()"
   ]
  },
  {
   "cell_type": "code",
   "execution_count": 5,
   "metadata": {
    "collapsed": false
   },
   "outputs": [
    {
     "name": "stdout",
     "output_type": "stream",
     "text": [
      "measurestartquarter measureendquarter count\n",
      "3Q2012              2Q2014            6    \n",
      "3Q2013              2Q2014            8    \n",
      "1Q2013              4Q2013            11   \n",
      "4Q2013              1Q2014            2    \n",
      "2Q2011              1Q2014            1    \n",
      "4Q2012              3Q2013            1    \n",
      "1Q2014              3Q2014            1    \n",
      "3Q2011              2Q2014            16   \n",
      "4Q2013              3Q2014            54   \n"
     ]
    }
   ],
   "source": [
    "##Determine Most important Measure Counts\n",
    "t_measuredates.groupBy(\"measurestartquarter\",\"measureendquarter\").count().show()"
   ]
  },
  {
   "cell_type": "code",
   "execution_count": 6,
   "metadata": {
    "collapsed": false
   },
   "outputs": [
    {
     "name": "stdout",
     "output_type": "stream",
     "text": [
      "Condition            count\n",
      "Children's Asthma    3    \n",
      "Pregnancy and Del... 1    \n",
      "Emergency Department 7    \n",
      "Surgical Care Imp... 9    \n",
      "Blood Clot Preven... 6    \n",
      "Pneumonia            1    \n",
      "Heart Failure        3    \n",
      "Stroke Care          8    \n",
      "Heart Attack or C... 9    \n",
      "Preventive Care      2    \n"
     ]
    }
   ],
   "source": [
    "## Determine categories and procedures to score hospitals on\n",
    "ecr = sqlContext.sql(\"select * from t_hospitalseffectivecareranges\")\n",
    "counts = ecr.groupBy('Condition').count()\n",
    "counts.show()\n",
    "counts.registerTempTable(\"counts\")"
   ]
  },
  {
   "cell_type": "code",
   "execution_count": 4,
   "metadata": {
    "collapsed": false
   },
   "outputs": [],
   "source": [
    "sql = 'select * from ' \\\n",
    "      't_hospitalseffectivecare'\n",
    "t_hospitalseffectivecare = sqlContext.sql(sql)\n",
    "\n",
    "##define representative set of procedures by condition that will be looked at, picked 1 procedure for each condittion\n",
    "measurenamelist = ['VTE_3', 'CAC_3', 'OP_23', 'OP_2', 'HF_3', 'IMM_2', 'STK_4', 'SCIP_INF_1']\n",
    "\n",
    "## send to Pandas to easily compute\n",
    "ecr = t_hospitalseffectivecare.toPandas()\n",
    "\n",
    "#slice on procedures\n",
    "sliced_ec = ecr[ecr.measureid.isin(measurenamelist)]\n",
    "\n",
    "#create a Spark Dataframe\n",
    "t_hospitalseffectivecare_filtered = sqlContext.createDataFrame(sliced_ec)\n",
    "\n",
    "#Register as a table\n",
    "t_hospitalseffectivecare_filtered.registerTempTable(\"t_hospitalseffectivecare_filtered\")"
   ]
  },
  {
   "cell_type": "code",
   "execution_count": 8,
   "metadata": {
    "collapsed": false
   },
   "outputs": [
    {
     "name": "stdout",
     "output_type": "stream",
     "text": [
      "providerid condition            measureid  measurename          score sample\n",
      "010001     Heart Failure        HF_3       ACEI or ARB for LVSD 98    203   \n",
      "010001     Preventive Care      IMM_2      Immunization for ... 94    534   \n",
      "010001     Surgical Care Imp... SCIP_INF_1 Prophylactic anti... 99    338   \n",
      "010001     Blood Clot Preven... VTE_3      Anticoagulation o... 83    126   \n",
      "010005     Heart Failure        HF_3       ACEI or ARB for LVSD 100   32    \n",
      "010005     Preventive Care      IMM_2      Immunization for ... 96    965   \n",
      "010005     Emergency Department OP_23      Head CT results      85    13    \n",
      "010005     Surgical Care Imp... SCIP_INF_1 Prophylactic anti... 100   383   \n",
      "010005     Blood Clot Preven... VTE_3      Anticoagulation o... 100   53    \n",
      "010006     Heart Failure        HF_3       ACEI or ARB for LVSD 100   72    \n",
      "010006     Preventive Care      IMM_2      Immunization for ... 99    522   \n",
      "010006     Surgical Care Imp... SCIP_INF_1 Prophylactic anti... 100   378   \n",
      "010006     Blood Clot Preven... VTE_3      Anticoagulation o... 77    94    \n",
      "010007     Heart Failure        HF_3       ACEI or ARB for LVSD 80    20    \n",
      "010007     Preventive Care      IMM_2      Immunization for ... 99    277   \n",
      "010007     Surgical Care Imp... SCIP_INF_1 Prophylactic anti... 96    23    \n",
      "010008     Preventive Care      IMM_2      Immunization for ... 93    284   \n",
      "010011     Heart Failure        HF_3       ACEI or ARB for LVSD 100   157   \n",
      "010011     Preventive Care      IMM_2      Immunization for ... 90    530   \n",
      "010011     Surgical Care Imp... SCIP_INF_1 Prophylactic anti... 100   375   \n"
     ]
    }
   ],
   "source": [
    "sqlContext.sql(\"select * from t_hospitalseffectivecare_filtered\").show()"
   ]
  },
  {
   "cell_type": "code",
   "execution_count": 5,
   "metadata": {
    "collapsed": false
   },
   "outputs": [],
   "source": [
    "##look at those procedures measured over a certain period\n",
    "sql = \"\"\"SELECT \n",
    "       ecf.providerid\n",
    "      ,ecf.condition\n",
    "      ,ecf.measureid\n",
    "      ,ecf.measurename\n",
    "      ,ecf.score\n",
    "      ,ecf.sample\n",
    "      ,m.measurestartquarter\n",
    "      ,m.measureendquarter\n",
    "FROM\n",
    "  t_hospitalseffectivecare_filtered as ecf\n",
    "  left join\n",
    "  t_measuredates as m \n",
    "  on ecf.measureid = m.measureid  \n",
    "  where m.measurestartquarter = '4Q2013' and m.measureendquarter = '3Q2014'\n",
    "  \"\"\"\n",
    "\n",
    "t_hospitalseffectivecare_filtered_date = sqlContext.sql(sql)\n",
    "\n",
    "#Register as a table\n",
    "t_hospitalseffectivecare_filtered_date.registerTempTable(\"t_hospitalseffectivecare_filtered_date\")\n"
   ]
  },
  {
   "cell_type": "code",
   "execution_count": 6,
   "metadata": {
    "collapsed": false
   },
   "outputs": [],
   "source": [
    "##aggregate provider procedure scores\n",
    "sql = \"\"\"SELECT \n",
    "       sum(score) AS score_agg,\n",
    "       stddev_samp(score) as score_stddev,\n",
    "       sum(max) AS max_agg,\n",
    "       sum(score) / sum(max) as perc_score,\n",
    "       count(measureid) as cnt,\n",
    "       providerid\n",
    "FROM\n",
    "  (SELECT ecf.providerid as providerid,\n",
    "          ecf.condition as condition,\n",
    "          ecf.measureid as measureid,\n",
    "          ecf.measurename as measurename,\n",
    "          ecf.score as score,\n",
    "          ecf.sample as sample,\n",
    "          ecr.max as max\n",
    "   FROM t_hospitalseffectivecare_filtered_date AS ecf\n",
    "   LEFT JOIN t_hospitalseffectivecareranges AS ecr ON ecf.measureid = ecr.measureid\n",
    "   WHERE cast(ecf.sample AS double) > 30) AS x\n",
    "GROUP BY providerid\n",
    "ORDER BY cnt desc, perc_score desc, providerid\"\"\"\n",
    "\n",
    "t_hospitalseffectivecare_filtered_scored = sqlContext.sql(sql)\n",
    "t_hospitalseffectivecare_filtered_scored.registerTempTable(\"t_hospitalseffectivecare_filtered_scored\")"
   ]
  },
  {
   "cell_type": "code",
   "execution_count": 12,
   "metadata": {
    "collapsed": false
   },
   "outputs": [
    {
     "name": "stdout",
     "output_type": "stream",
     "text": [
      "score_agg score_stddev       max_agg perc_score         cnt providerid\n",
      "290.0     43.54882317583335  500.0   0.58               5   050045    \n",
      "396.0     0.816496580927726  400.0   0.99               4   340001    \n",
      "391.0     2.6299556396765835 400.0   0.9775             4   220077    \n",
      "387.0     2.9860788111948193 400.0   0.9675             4   330101    \n",
      "384.0     3.915780041490244  400.0   0.96               4   050077    \n",
      "383.0     2.7537852736430506 400.0   0.9575             4   440104    \n",
      "376.0     9.345230512584124  400.0   0.94               4   450388    \n",
      "374.0     7.937253933193772  400.0   0.935              4   100006    \n",
      "373.0     5.619905100029122  400.0   0.9325             4   230017    \n",
      "373.0     6.3966136874651625 400.0   0.9325             4   340002    \n",
      "368.0     3.559026084010437  400.0   0.92               4   420004    \n",
      "365.0     7.58836829188814   400.0   0.9125             4   230038    \n",
      "343.0     11.026483271348727 400.0   0.8575             4   450184    \n",
      "302.0     37.107950630558946 400.0   0.755              4   450237    \n",
      "275.0     45.49267340279458  400.0   0.6875             4   450034    \n",
      "300.0     0.0                300.0   1.0                3   030103    \n",
      "300.0     0.0                300.0   1.0                3   050180    \n",
      "300.0     0.0                300.0   1.0                3   130006    \n",
      "300.0     0.0                300.0   1.0                3   340014    \n",
      "299.0     0.5773502691896257 300.0   0.9966666666666667 3   050324    \n"
     ]
    }
   ],
   "source": [
    "t_hospitalseffectivecare_filtered_scored.show()"
   ]
  },
  {
   "cell_type": "code",
   "execution_count": 7,
   "metadata": {
    "collapsed": false
   },
   "outputs": [],
   "source": [
    "##exclude those providers with high readmission rations scores (1 = bad, 0 or null OK)\n",
    "sql = \"\"\"SELECT \n",
    "         score_agg,\n",
    "         score_stddev,\n",
    "         max_agg,\n",
    "         perc_score,\n",
    "         cnt,\n",
    "         ecft.providerid,\n",
    "         rr.aggregateexcessreadmissions\n",
    "         \n",
    "         FROM t_hospitalseffectivecare_filtered_scored as ecft\n",
    "         left join \n",
    "              t_hospitalsreadmissionratios as rr\n",
    "              on ecft.providerid = rr.providerid\n",
    "         where rr.aggregateexcessreadmissions <> 1\n",
    "         ORDER BY cnt desc, perc_score desc, providerid\n",
    "         \"\"\"\n",
    "\n",
    "t_hospitalseffectivecare_filtered_scored_cleaned = sqlContext.sql(sql)\n",
    "t_hospitalseffectivecare_filtered_scored_cleaned.registerTempTable(\"t_hospitalseffectivecare_filtered_scored_cleaned\")"
   ]
  },
  {
   "cell_type": "code",
   "execution_count": 8,
   "metadata": {
    "collapsed": false
   },
   "outputs": [],
   "source": [
    "##join back to provider_ids and calculate the providers with lowest score variability (< 2 stds) and highest aggregates as top 10\n",
    "sql = \"\"\"SELECT \n",
    "         score_agg,\n",
    "         score_stddev,\n",
    "         max_agg,\n",
    "         perc_score,\n",
    "         cnt,\n",
    "         ecftc.providerid,\n",
    "         aggregateexcessreadmissions,\n",
    "         h.hospitalname,\n",
    "         h.state,\n",
    "         h.hospitaltype\n",
    "         \n",
    "         FROM t_hospitalseffectivecare_filtered_scored_cleaned as ecftc\n",
    "         inner join \n",
    "              t_hospitals as h\n",
    "              on ecftc.providerid = h.providerid\n",
    "         where score_stddev < 2\n",
    "         ORDER BY cnt desc, perc_score desc, providerid\n",
    "         \"\"\"\n",
    "\n",
    "t_best_hospitals = sqlContext.sql(sql)\n",
    "#t_best_hospitals.show()"
   ]
  },
  {
   "cell_type": "code",
   "execution_count": 9,
   "metadata": {
    "collapsed": true
   },
   "outputs": [],
   "source": [
    "## send to Pandas finalize\n",
    "best_hospitals_df = t_best_hospitals.toPandas()"
   ]
  },
  {
   "cell_type": "code",
   "execution_count": 10,
   "metadata": {
    "collapsed": false
   },
   "outputs": [],
   "source": [
    "out = best_hospitals_df[['hospitalname','score_agg','perc_score','score_stddev']].head(10)"
   ]
  },
  {
   "cell_type": "code",
   "execution_count": 11,
   "metadata": {
    "collapsed": false
   },
   "outputs": [],
   "source": [
    "out.to_csv(\"/usr/local/w205-hw/exercise_1/investigations/best_hospitals/best_hospitals.txt\")"
   ]
  },
  {
   "cell_type": "markdown",
   "metadata": {},
   "source": [
    "#### Question 2: What states are models of high-quality care?"
   ]
  },
  {
   "cell_type": "code",
   "execution_count": 12,
   "metadata": {
    "collapsed": false
   },
   "outputs": [],
   "source": [
    "#register table from answering question 1\n",
    "#create a Spark Dataframe\n",
    "t_best_hospitals = sqlContext.createDataFrame(best_hospitals_df)\n",
    "\n",
    "#Register as a table\n",
    "t_best_hospitals.registerTempTable(\"t_best_hospitals\")\n"
   ]
  },
  {
   "cell_type": "code",
   "execution_count": 13,
   "metadata": {
    "collapsed": false
   },
   "outputs": [
    {
     "data": {
      "text/plain": [
       "[StructField(score_agg,DoubleType,true),\n",
       " StructField(score_stddev,DoubleType,true),\n",
       " StructField(max_agg,DoubleType,true),\n",
       " StructField(perc_score,DoubleType,true),\n",
       " StructField(cnt,LongType,true),\n",
       " StructField(providerid,StringType,true),\n",
       " StructField(aggregateexcessreadmissions,LongType,true),\n",
       " StructField(hospitalname,StringType,true),\n",
       " StructField(state,StringType,true),\n",
       " StructField(hospitaltype,StringType,true)]"
      ]
     },
     "execution_count": 13,
     "metadata": {},
     "output_type": "execute_result"
    }
   ],
   "source": [
    "t_best_hospitals.schema.fields"
   ]
  },
  {
   "cell_type": "code",
   "execution_count": 14,
   "metadata": {
    "collapsed": false
   },
   "outputs": [],
   "source": [
    "##Recompute state scores on procedures using a similar methodology (based on the best hosptials)\n",
    "sql = \"\"\"SELECT \n",
    "       sum(score_agg) AS score_agg,\n",
    "       stddev_samp(score_agg) as score_stddev,\n",
    "       sum(max_agg) AS max_agg,\n",
    "       sum(score_agg) / sum(max_agg) as perc_score,\n",
    "       count(providerid) as cnt_providers,\n",
    "       state\n",
    "FROM\n",
    "       t_best_hospitals AS x\n",
    "GROUP BY state\n",
    "ORDER BY cnt_providers desc, perc_score desc, state\"\"\"\n",
    "\n",
    "\n",
    "t_best_states = sqlContext.sql(sql)\n",
    "t_best_states.registerTempTable(\"t_best_states\")"
   ]
  },
  {
   "cell_type": "code",
   "execution_count": 17,
   "metadata": {
    "collapsed": false
   },
   "outputs": [],
   "source": [
    "#write output\n",
    "#t_best_states.show()\n",
    "best_states_df = t_best_states.toPandas()\n",
    "out = best_states_df[['state','score_agg','perc_score','score_stddev']].head(10)\n",
    "out.to_csv(\"/usr/local/w205-hw/exercise_1/investigations/best_states/best_states.txt\")"
   ]
  },
  {
   "cell_type": "code",
   "execution_count": 15,
   "metadata": {
    "collapsed": false
   },
   "outputs": [
    {
     "data": {
      "text/plain": [
       "50L"
      ]
     },
     "execution_count": 15,
     "metadata": {},
     "output_type": "execute_result"
    }
   ],
   "source": [
    "t_best_states.count()"
   ]
  },
  {
   "cell_type": "markdown",
   "metadata": {},
   "source": [
    "####Question 3: Which procedures have the greatest variability between hospitals?  \n"
   ]
  },
  {
   "cell_type": "code",
   "execution_count": 26,
   "metadata": {
    "collapsed": false
   },
   "outputs": [],
   "source": [
    "##Review variability in scores, not just those originally sampled\n",
    "\n",
    "##look at all procedures measured over a certain period 4Q2013 and 3Q2014\n",
    "sql = \"\"\"SELECT \n",
    "       variance(score) AS score_variance,\n",
    "       stddev_samp(score) as score_stddev,\n",
    "       count(measureid) as cnt,\n",
    "       measurename\n",
    "  FROM\n",
    "  (SELECT ecf.providerid as providerid,\n",
    "          ecf.condition as condition,\n",
    "          ecf.measureid as measureid,\n",
    "          ecf.measurename as measurename,\n",
    "          ecf.score as score,\n",
    "          ecf.sample as sample,\n",
    "          ecr.max as max\n",
    "   FROM t_hospitalseffectivecare AS ecf\n",
    "   LEFT JOIN t_hospitalseffectivecareranges AS ecr ON ecf.measureid = ecr.measureid\n",
    "   LEFT JOIN t_measuredates as m on ecf.measureid = m.measureid  \n",
    "   WHERE cast(ecf.sample AS double) > 30 and ecr.max = 100\n",
    "         and m.measurestartquarter = '4Q2013' and m.measureendquarter = '3Q2014'\n",
    "   \n",
    "   ) AS x\n",
    "GROUP BY measurename\n",
    "ORDER BY score_variance desc, cnt desc, measurename\"\"\"\n",
    "\n",
    "\n",
    "t_scorevariability = sqlContext.sql(sql)\n",
    "\n",
    "#Register as a table\n",
    "t_scorevariability.registerTempTable(\"t_scorevariability\")\n",
    "##t_scorevariability.show()\n",
    "\n",
    "#write output\n",
    "#t_scorevariability.show()\n",
    "scorevariability_df = t_scorevariability.toPandas()\n",
    "out = scorevariability_df[['score_variance','score_stddev','cnt','measurename']].head(10)\n",
    "out.to_csv(\"/usr/local/w205-hw/exercise_1/investigations/hospital_variability/scorevariability.txt\")"
   ]
  },
  {
   "cell_type": "markdown",
   "metadata": {},
   "source": [
    "####Question 4: Are average scores for hospital quality or procedural variability correlated with patient survey responses?\n",
    "\n"
   ]
  },
  {
   "cell_type": "code",
   "execution_count": 35,
   "metadata": {
    "collapsed": false
   },
   "outputs": [],
   "source": [
    "##Just look at correlation between hospital quality and patient survey responses... More indicative IMO\n",
    "##\n",
    "\n",
    "#import seaborn as sns\n",
    "#import matplotlib.pyplot as plt\n",
    "##sns.pairplot(nba[[\"ast\", \"fg\", \"trb\"]])\n",
    "##plt.show()\n",
    "\n",
    "#print(df.corr())\n",
    "\n",
    "sql = \"\"\"SELECT \n",
    "         ecftc.perc_score,\n",
    "         hess.scaledscoreaverage,\n",
    "         ecftc.providerid,\n",
    "         h.hospitalname,\n",
    "         h.state,\n",
    "         h.hospitaltype\n",
    "         FROM t_hospitalseffectivecare_filtered_scored_cleaned as ecftc\n",
    "         inner join \n",
    "              t_hospitals as h\n",
    "              on ecftc.providerid = h.providerid\n",
    "         inner join\n",
    "              t_hospitalspatientexperiencescaledscore as hess\n",
    "               on ecftc.providerid = hess.providerid\n",
    "         ORDER BY perc_score desc, providerid\n",
    "         \"\"\"\n",
    "\n",
    "t_quality_to_experience_correlation = sqlContext.sql(sql)\n",
    "\n",
    "#Register as a table\n",
    "t_quality_to_experience_correlation.registerTempTable(\"t_quality_to_experience_correlation\")\n",
    "\n",
    "quality_to_experience_correlation_df = t_quality_to_experience_correlation.toPandas()\n"
   ]
  },
  {
   "cell_type": "code",
   "execution_count": 38,
   "metadata": {
    "collapsed": false
   },
   "outputs": [
    {
     "data": {
      "text/html": [
       "<div>\n",
       "<table border=\"1\" class=\"dataframe\">\n",
       "  <thead>\n",
       "    <tr style=\"text-align: right;\">\n",
       "      <th></th>\n",
       "      <th>perc_score</th>\n",
       "      <th>scaledscoreaverage</th>\n",
       "    </tr>\n",
       "  </thead>\n",
       "  <tbody>\n",
       "    <tr>\n",
       "      <th>0</th>\n",
       "      <td>1.000000</td>\n",
       "      <td>0.6375</td>\n",
       "    </tr>\n",
       "    <tr>\n",
       "      <th>1</th>\n",
       "      <td>1.000000</td>\n",
       "      <td>0.6125</td>\n",
       "    </tr>\n",
       "    <tr>\n",
       "      <th>2</th>\n",
       "      <td>1.000000</td>\n",
       "      <td>0.5250</td>\n",
       "    </tr>\n",
       "    <tr>\n",
       "      <th>3</th>\n",
       "      <td>1.000000</td>\n",
       "      <td>0.1375</td>\n",
       "    </tr>\n",
       "    <tr>\n",
       "      <th>4</th>\n",
       "      <td>1.000000</td>\n",
       "      <td>0.4000</td>\n",
       "    </tr>\n",
       "    <tr>\n",
       "      <th>5</th>\n",
       "      <td>1.000000</td>\n",
       "      <td>0.1375</td>\n",
       "    </tr>\n",
       "    <tr>\n",
       "      <th>6</th>\n",
       "      <td>1.000000</td>\n",
       "      <td>0.2500</td>\n",
       "    </tr>\n",
       "    <tr>\n",
       "      <th>7</th>\n",
       "      <td>1.000000</td>\n",
       "      <td>0.0750</td>\n",
       "    </tr>\n",
       "    <tr>\n",
       "      <th>8</th>\n",
       "      <td>1.000000</td>\n",
       "      <td>0.8125</td>\n",
       "    </tr>\n",
       "    <tr>\n",
       "      <th>9</th>\n",
       "      <td>1.000000</td>\n",
       "      <td>0.1625</td>\n",
       "    </tr>\n",
       "    <tr>\n",
       "      <th>10</th>\n",
       "      <td>1.000000</td>\n",
       "      <td>0.0000</td>\n",
       "    </tr>\n",
       "    <tr>\n",
       "      <th>11</th>\n",
       "      <td>1.000000</td>\n",
       "      <td>0.8500</td>\n",
       "    </tr>\n",
       "    <tr>\n",
       "      <th>12</th>\n",
       "      <td>1.000000</td>\n",
       "      <td>0.2750</td>\n",
       "    </tr>\n",
       "    <tr>\n",
       "      <th>13</th>\n",
       "      <td>1.000000</td>\n",
       "      <td>0.1500</td>\n",
       "    </tr>\n",
       "    <tr>\n",
       "      <th>14</th>\n",
       "      <td>1.000000</td>\n",
       "      <td>0.2000</td>\n",
       "    </tr>\n",
       "    <tr>\n",
       "      <th>15</th>\n",
       "      <td>1.000000</td>\n",
       "      <td>0.0375</td>\n",
       "    </tr>\n",
       "    <tr>\n",
       "      <th>16</th>\n",
       "      <td>1.000000</td>\n",
       "      <td>0.1000</td>\n",
       "    </tr>\n",
       "    <tr>\n",
       "      <th>17</th>\n",
       "      <td>1.000000</td>\n",
       "      <td>0.0625</td>\n",
       "    </tr>\n",
       "    <tr>\n",
       "      <th>18</th>\n",
       "      <td>1.000000</td>\n",
       "      <td>0.0375</td>\n",
       "    </tr>\n",
       "    <tr>\n",
       "      <th>19</th>\n",
       "      <td>1.000000</td>\n",
       "      <td>0.0250</td>\n",
       "    </tr>\n",
       "    <tr>\n",
       "      <th>20</th>\n",
       "      <td>1.000000</td>\n",
       "      <td>0.0000</td>\n",
       "    </tr>\n",
       "    <tr>\n",
       "      <th>21</th>\n",
       "      <td>1.000000</td>\n",
       "      <td>0.3250</td>\n",
       "    </tr>\n",
       "    <tr>\n",
       "      <th>22</th>\n",
       "      <td>1.000000</td>\n",
       "      <td>0.2000</td>\n",
       "    </tr>\n",
       "    <tr>\n",
       "      <th>23</th>\n",
       "      <td>1.000000</td>\n",
       "      <td>0.0500</td>\n",
       "    </tr>\n",
       "    <tr>\n",
       "      <th>24</th>\n",
       "      <td>1.000000</td>\n",
       "      <td>0.3750</td>\n",
       "    </tr>\n",
       "    <tr>\n",
       "      <th>25</th>\n",
       "      <td>1.000000</td>\n",
       "      <td>0.0250</td>\n",
       "    </tr>\n",
       "    <tr>\n",
       "      <th>26</th>\n",
       "      <td>1.000000</td>\n",
       "      <td>0.4375</td>\n",
       "    </tr>\n",
       "    <tr>\n",
       "      <th>27</th>\n",
       "      <td>1.000000</td>\n",
       "      <td>0.1000</td>\n",
       "    </tr>\n",
       "    <tr>\n",
       "      <th>28</th>\n",
       "      <td>1.000000</td>\n",
       "      <td>0.3375</td>\n",
       "    </tr>\n",
       "    <tr>\n",
       "      <th>29</th>\n",
       "      <td>1.000000</td>\n",
       "      <td>0.2375</td>\n",
       "    </tr>\n",
       "    <tr>\n",
       "      <th>...</th>\n",
       "      <td>...</td>\n",
       "      <td>...</td>\n",
       "    </tr>\n",
       "    <tr>\n",
       "      <th>989</th>\n",
       "      <td>0.820000</td>\n",
       "      <td>0.2125</td>\n",
       "    </tr>\n",
       "    <tr>\n",
       "      <th>990</th>\n",
       "      <td>0.820000</td>\n",
       "      <td>0.2250</td>\n",
       "    </tr>\n",
       "    <tr>\n",
       "      <th>991</th>\n",
       "      <td>0.815000</td>\n",
       "      <td>0.1000</td>\n",
       "    </tr>\n",
       "    <tr>\n",
       "      <th>992</th>\n",
       "      <td>0.810000</td>\n",
       "      <td>0.1125</td>\n",
       "    </tr>\n",
       "    <tr>\n",
       "      <th>993</th>\n",
       "      <td>0.805000</td>\n",
       "      <td>0.2000</td>\n",
       "    </tr>\n",
       "    <tr>\n",
       "      <th>994</th>\n",
       "      <td>0.800000</td>\n",
       "      <td>0.3875</td>\n",
       "    </tr>\n",
       "    <tr>\n",
       "      <th>995</th>\n",
       "      <td>0.795000</td>\n",
       "      <td>0.1125</td>\n",
       "    </tr>\n",
       "    <tr>\n",
       "      <th>996</th>\n",
       "      <td>0.790000</td>\n",
       "      <td>0.1625</td>\n",
       "    </tr>\n",
       "    <tr>\n",
       "      <th>997</th>\n",
       "      <td>0.780000</td>\n",
       "      <td>0.3250</td>\n",
       "    </tr>\n",
       "    <tr>\n",
       "      <th>998</th>\n",
       "      <td>0.770000</td>\n",
       "      <td>0.4000</td>\n",
       "    </tr>\n",
       "    <tr>\n",
       "      <th>999</th>\n",
       "      <td>0.766667</td>\n",
       "      <td>0.2250</td>\n",
       "    </tr>\n",
       "    <tr>\n",
       "      <th>1000</th>\n",
       "      <td>0.755000</td>\n",
       "      <td>0.3000</td>\n",
       "    </tr>\n",
       "    <tr>\n",
       "      <th>1001</th>\n",
       "      <td>0.755000</td>\n",
       "      <td>0.1875</td>\n",
       "    </tr>\n",
       "    <tr>\n",
       "      <th>1002</th>\n",
       "      <td>0.716667</td>\n",
       "      <td>0.1500</td>\n",
       "    </tr>\n",
       "    <tr>\n",
       "      <th>1003</th>\n",
       "      <td>0.710000</td>\n",
       "      <td>0.4250</td>\n",
       "    </tr>\n",
       "    <tr>\n",
       "      <th>1004</th>\n",
       "      <td>0.700000</td>\n",
       "      <td>0.0500</td>\n",
       "    </tr>\n",
       "    <tr>\n",
       "      <th>1005</th>\n",
       "      <td>0.695000</td>\n",
       "      <td>0.2375</td>\n",
       "    </tr>\n",
       "    <tr>\n",
       "      <th>1006</th>\n",
       "      <td>0.690000</td>\n",
       "      <td>0.7500</td>\n",
       "    </tr>\n",
       "    <tr>\n",
       "      <th>1007</th>\n",
       "      <td>0.690000</td>\n",
       "      <td>0.4750</td>\n",
       "    </tr>\n",
       "    <tr>\n",
       "      <th>1008</th>\n",
       "      <td>0.687500</td>\n",
       "      <td>0.3125</td>\n",
       "    </tr>\n",
       "    <tr>\n",
       "      <th>1009</th>\n",
       "      <td>0.680000</td>\n",
       "      <td>0.2125</td>\n",
       "    </tr>\n",
       "    <tr>\n",
       "      <th>1010</th>\n",
       "      <td>0.663333</td>\n",
       "      <td>0.3625</td>\n",
       "    </tr>\n",
       "    <tr>\n",
       "      <th>1011</th>\n",
       "      <td>0.660000</td>\n",
       "      <td>0.1125</td>\n",
       "    </tr>\n",
       "    <tr>\n",
       "      <th>1012</th>\n",
       "      <td>0.620000</td>\n",
       "      <td>0.3625</td>\n",
       "    </tr>\n",
       "    <tr>\n",
       "      <th>1013</th>\n",
       "      <td>0.615000</td>\n",
       "      <td>0.4250</td>\n",
       "    </tr>\n",
       "    <tr>\n",
       "      <th>1014</th>\n",
       "      <td>0.610000</td>\n",
       "      <td>0.3500</td>\n",
       "    </tr>\n",
       "    <tr>\n",
       "      <th>1015</th>\n",
       "      <td>0.606667</td>\n",
       "      <td>0.0875</td>\n",
       "    </tr>\n",
       "    <tr>\n",
       "      <th>1016</th>\n",
       "      <td>0.540000</td>\n",
       "      <td>0.3000</td>\n",
       "    </tr>\n",
       "    <tr>\n",
       "      <th>1017</th>\n",
       "      <td>0.470000</td>\n",
       "      <td>0.1375</td>\n",
       "    </tr>\n",
       "    <tr>\n",
       "      <th>1018</th>\n",
       "      <td>0.420000</td>\n",
       "      <td>0.3375</td>\n",
       "    </tr>\n",
       "  </tbody>\n",
       "</table>\n",
       "<p>1019 rows × 2 columns</p>\n",
       "</div>"
      ],
      "text/plain": [
       "      perc_score  scaledscoreaverage\n",
       "0       1.000000              0.6375\n",
       "1       1.000000              0.6125\n",
       "2       1.000000              0.5250\n",
       "3       1.000000              0.1375\n",
       "4       1.000000              0.4000\n",
       "5       1.000000              0.1375\n",
       "6       1.000000              0.2500\n",
       "7       1.000000              0.0750\n",
       "8       1.000000              0.8125\n",
       "9       1.000000              0.1625\n",
       "10      1.000000              0.0000\n",
       "11      1.000000              0.8500\n",
       "12      1.000000              0.2750\n",
       "13      1.000000              0.1500\n",
       "14      1.000000              0.2000\n",
       "15      1.000000              0.0375\n",
       "16      1.000000              0.1000\n",
       "17      1.000000              0.0625\n",
       "18      1.000000              0.0375\n",
       "19      1.000000              0.0250\n",
       "20      1.000000              0.0000\n",
       "21      1.000000              0.3250\n",
       "22      1.000000              0.2000\n",
       "23      1.000000              0.0500\n",
       "24      1.000000              0.3750\n",
       "25      1.000000              0.0250\n",
       "26      1.000000              0.4375\n",
       "27      1.000000              0.1000\n",
       "28      1.000000              0.3375\n",
       "29      1.000000              0.2375\n",
       "...          ...                 ...\n",
       "989     0.820000              0.2125\n",
       "990     0.820000              0.2250\n",
       "991     0.815000              0.1000\n",
       "992     0.810000              0.1125\n",
       "993     0.805000              0.2000\n",
       "994     0.800000              0.3875\n",
       "995     0.795000              0.1125\n",
       "996     0.790000              0.1625\n",
       "997     0.780000              0.3250\n",
       "998     0.770000              0.4000\n",
       "999     0.766667              0.2250\n",
       "1000    0.755000              0.3000\n",
       "1001    0.755000              0.1875\n",
       "1002    0.716667              0.1500\n",
       "1003    0.710000              0.4250\n",
       "1004    0.700000              0.0500\n",
       "1005    0.695000              0.2375\n",
       "1006    0.690000              0.7500\n",
       "1007    0.690000              0.4750\n",
       "1008    0.687500              0.3125\n",
       "1009    0.680000              0.2125\n",
       "1010    0.663333              0.3625\n",
       "1011    0.660000              0.1125\n",
       "1012    0.620000              0.3625\n",
       "1013    0.615000              0.4250\n",
       "1014    0.610000              0.3500\n",
       "1015    0.606667              0.0875\n",
       "1016    0.540000              0.3000\n",
       "1017    0.470000              0.1375\n",
       "1018    0.420000              0.3375\n",
       "\n",
       "[1019 rows x 2 columns]"
      ]
     },
     "execution_count": 38,
     "metadata": {},
     "output_type": "execute_result"
    }
   ],
   "source": [
    "quality_to_experience_correlation_df[['perc_score','scaledscoreaverage']]"
   ]
  },
  {
   "cell_type": "code",
   "execution_count": 43,
   "metadata": {
    "collapsed": false
   },
   "outputs": [
    {
     "name": "stdout",
     "output_type": "stream",
     "text": [
      "                    perc_score  scaledscoreaverage\n",
      "perc_score            1.000000            0.029226\n",
      "scaledscoreaverage    0.029226            1.000000\n"
     ]
    }
   ],
   "source": [
    "print(quality_to_experience_correlation_df[['perc_score','scaledscoreaverage']].corr())"
   ]
  },
  {
   "cell_type": "code",
   "execution_count": 51,
   "metadata": {
    "collapsed": true
   },
   "outputs": [],
   "source": [
    "out = quality_to_experience_correlation_df[['perc_score','scaledscoreaverage']].corr()\n",
    "out.to_csv(\"/usr/local/w205-hw/exercise_1/investigations/hospitals_and_patients/qualitycorrelation.txt\")"
   ]
  }
 ],
 "metadata": {
  "kernelspec": {
   "display_name": "Python 2",
   "language": "python",
   "name": "python2"
  },
  "language_info": {
   "codemirror_mode": {
    "name": "ipython",
    "version": 2
   },
   "file_extension": ".py",
   "mimetype": "text/x-python",
   "name": "python",
   "nbconvert_exporter": "python",
   "pygments_lexer": "ipython2",
   "version": "2.7.10"
  }
 },
 "nbformat": 4,
 "nbformat_minor": 0
}
