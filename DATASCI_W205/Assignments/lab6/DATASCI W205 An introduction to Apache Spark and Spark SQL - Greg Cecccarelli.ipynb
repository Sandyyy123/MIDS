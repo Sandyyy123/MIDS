{
 "cells": [
  {
   "cell_type": "markdown",
   "metadata": {},
   "source": [
    "## DATASCI W205 - An introduction to Apache\tSpark and Spark SQL (Lab 6)"
   ]
  },
  {
   "cell_type": "code",
   "execution_count": 1,
   "metadata": {
    "collapsed": false
   },
   "outputs": [
    {
     "name": "stdout",
     "output_type": "stream",
     "text": [
      "/usr/lib/spark/\r\n"
     ]
    }
   ],
   "source": [
    "!echo $SPARK_HOME"
   ]
  },
  {
   "cell_type": "code",
   "execution_count": 2,
   "metadata": {
    "collapsed": false
   },
   "outputs": [
    {
     "name": "stdout",
     "output_type": "stream",
     "text": [
      "/usr/lib/spark/bin\n"
     ]
    }
   ],
   "source": [
    "cd /usr/lib/spark/bin"
   ]
  },
  {
   "cell_type": "code",
   "execution_count": 3,
   "metadata": {
    "collapsed": false
   },
   "outputs": [],
   "source": [
    "x = [1,2,3,4,5,6,7,8,9,10]"
   ]
  },
  {
   "cell_type": "code",
   "execution_count": 4,
   "metadata": {
    "collapsed": false
   },
   "outputs": [],
   "source": [
    "distdata = sc.parallelize(x)"
   ]
  },
  {
   "cell_type": "code",
   "execution_count": 5,
   "metadata": {
    "collapsed": false
   },
   "outputs": [
    {
     "data": {
      "text/plain": [
       "10"
      ]
     },
     "execution_count": 5,
     "metadata": {},
     "output_type": "execute_result"
    }
   ],
   "source": [
    "distdata.count()"
   ]
  },
  {
   "cell_type": "markdown",
   "metadata": {},
   "source": [
    "### Step 2: Load a File\tand\tCount the Rows"
   ]
  },
  {
   "cell_type": "code",
   "execution_count": 6,
   "metadata": {
    "collapsed": false
   },
   "outputs": [
    {
     "name": "stdout",
     "output_type": "stream",
     "text": [
      "\u001b[0m\u001b[38;5;34mbeeline\u001b[0m*               \u001b[38;5;34mpyspark\u001b[0m*      \u001b[38;5;34mspark-shell\u001b[0m*   \u001b[38;5;34mutils.sh\u001b[0m*\r\n",
      "\u001b[38;5;34mcompute-classpath.sh\u001b[0m*  \u001b[38;5;34mrun-example\u001b[0m*  \u001b[38;5;34mspark-sql\u001b[0m*\r\n",
      "\u001b[38;5;34mload-spark-env.sh\u001b[0m*     \u001b[38;5;34mspark-class\u001b[0m*  \u001b[38;5;34mspark-submit\u001b[0m*\r\n",
      "\u001b[m"
     ]
    }
   ],
   "source": [
    "ls"
   ]
  },
  {
   "cell_type": "code",
   "execution_count": 13,
   "metadata": {
    "collapsed": false
   },
   "outputs": [
    {
     "data": {
      "text/plain": [
       "u'/root/ipython-nbs'"
      ]
     },
     "execution_count": 13,
     "metadata": {},
     "output_type": "execute_result"
    }
   ],
   "source": [
    "pwd"
   ]
  },
  {
   "cell_type": "code",
   "execution_count": 7,
   "metadata": {
    "collapsed": false
   },
   "outputs": [
    {
     "name": "stdout",
     "output_type": "stream",
     "text": [
      "/usr/local\n"
     ]
    }
   ],
   "source": [
    "cd /usr/local/"
   ]
  },
  {
   "cell_type": "code",
   "execution_count": 2,
   "metadata": {
    "collapsed": false
   },
   "outputs": [],
   "source": [
    "crimefile = sc.textFile(\"/usr/local/Crimes_-_2001_to_present.csv\")"
   ]
  },
  {
   "cell_type": "code",
   "execution_count": 3,
   "metadata": {
    "collapsed": false
   },
   "outputs": [
    {
     "data": {
      "text/plain": [
       "/usr/local/Crimes_-_2001_to_present.csv MapPartitionsRDD[1] at textFile at NativeMethodAccessorImpl.java:-2"
      ]
     },
     "execution_count": 3,
     "metadata": {},
     "output_type": "execute_result"
    }
   ],
   "source": [
    "crimefile"
   ]
  },
  {
   "cell_type": "code",
   "execution_count": 16,
   "metadata": {
    "collapsed": false
   },
   "outputs": [
    {
     "name": "stdout",
     "output_type": "stream",
     "text": [
      "1376617753 Crimes_-_2001_to_present.csv\r\n"
     ]
    }
   ],
   "source": [
    "!wc -c Crimes_-_2001_to_present.csv"
   ]
  },
  {
   "cell_type": "code",
   "execution_count": 21,
   "metadata": {
    "collapsed": false
   },
   "outputs": [
    {
     "data": {
      "text/plain": [
       "5862796"
      ]
     },
     "execution_count": 21,
     "metadata": {},
     "output_type": "execute_result"
    }
   ],
   "source": [
    "crimefile.count()"
   ]
  },
  {
   "cell_type": "code",
   "execution_count": 22,
   "metadata": {
    "collapsed": false
   },
   "outputs": [
    {
     "data": {
      "text/plain": [
       "[u'ID,Case Number,Date,Block,IUCR,Primary Type,Description,Location Description,Arrest,Domestic,Beat,District,Ward,Community Area,FBI Code,X Coordinate,Y Coordinate,Year,Updated On,Latitude,Longitude,Location',\n",
       " u'10184515,HY372204,08/06/2015 11:55:00 PM,033XX W DIVERSEY AVE,2027,NARCOTICS,POSS: CRACK,STREET,true,false,1412,014,35,22,18,1153440,1918377,2015,08/13/2015 12:57:42 PM,41.931870591,-87.711546895,\"(41.931870591, -87.711546895)\"',\n",
       " u'10184607,HY372206,08/06/2015 11:55:00 PM,035XX S RHODES AVE,0486,BATTERY,DOMESTIC BATTERY SIMPLE,APARTMENT,false,true,0212,002,4,35,08B,1180132,1881331,2015,08/13/2015 12:57:42 PM,41.82964147,-87.614598779,\"(41.82964147, -87.614598779)\"',\n",
       " u'10190430,HY374464,08/06/2015 11:50:00 PM,047XX W HARRISON ST,0430,BATTERY,AGGRAVATED: OTHER DANG WEAPON,GAS STATION,false,false,1131,011,24,25,04B,1144626,1896881,2015,08/13/2015 12:57:42 PM,41.873054046,-87.744479572,\"(41.873054046, -87.744479572)\"',\n",
       " u'10185476,HY372534,08/06/2015 11:50:00 PM,030XX W FLETCHER ST,0620,BURGLARY,UNLAWFUL ENTRY,RESIDENCE-GARAGE,false,false,1411,014,33,21,05,1155716,1920830,2015,08/13/2015 12:57:42 PM,41.938556204,-87.703116637,\"(41.938556204, -87.703116637)\"',\n",
       " u'10184561,HY372224,08/06/2015 11:50:00 PM,034XX S RACINE AVE,0820,THEFT,$500 AND UNDER,PARKING LOT/GARAGE(NON.RESID.),true,false,0913,009,11,60,06,1168866,1881886,2015,08/13/2015 12:57:42 PM,41.831415654,-87.655917306,\"(41.831415654, -87.655917306)\"',\n",
       " u'10184518,HY372189,08/06/2015 11:45:00 PM,038XX S HONORE ST,1310,CRIMINAL DAMAGE,TO PROPERTY,RESIDENCE,false,false,0912,009,11,59,14,1164617,1879167,2015,08/13/2015 12:57:42 PM,41.824045312,-87.671584096,\"(41.824045312, -87.671584096)\"',\n",
       " u'10184620,HY372195,08/06/2015 11:45:00 PM,011XX N WELLS ST,0810,THEFT,OVER $500,TAXICAB,false,false,1824,018,43,8,06,1174556,1907722,2015,08/13/2015 12:57:42 PM,41.902186365,-87.634268385,\"(41.902186365, -87.634268385)\"',\n",
       " u'10184573,HY372193,08/06/2015 11:44:00 PM,012XX W 82ND ST,0460,BATTERY,SIMPLE,SIDEWALK,false,false,0613,006,21,71,08B,1169200,1850440,2015,08/13/2015 12:57:42 PM,41.74511691,-87.655601328,\"(41.74511691, -87.655601328)\"',\n",
       " u'10184606,HY372191,08/06/2015 11:40:00 PM,048XX S INDIANA AVE,0486,BATTERY,DOMESTIC BATTERY SIMPLE,ALLEY,false,true,0224,002,3,38,08B,1178377,1872994,2015,08/13/2015 12:57:42 PM,41.80680416,-87.621291256,\"(41.80680416, -87.621291256)\"']"
      ]
     },
     "execution_count": 22,
     "metadata": {},
     "output_type": "execute_result"
    }
   ],
   "source": [
    "crimefile.take(10)"
   ]
  },
  {
   "cell_type": "markdown",
   "metadata": {},
   "source": [
    "### Step 3.\tFilter Records and\tStructures"
   ]
  },
  {
   "cell_type": "code",
   "execution_count": 4,
   "metadata": {
    "collapsed": true
   },
   "outputs": [],
   "source": [
    "def remove_header(itr_index, itr): return iter(list(itr)[1:]) if itr_index == 0 else itr "
   ]
  },
  {
   "cell_type": "code",
   "execution_count": 5,
   "metadata": {
    "collapsed": false
   },
   "outputs": [],
   "source": [
    "noHeaderCrimeData2 = crimefile.mapPartitionsWithIndex(remove_header)\n",
    "##noHeaderCrimeData2.count()\n"
   ]
  },
  {
   "cell_type": "code",
   "execution_count": 6,
   "metadata": {
    "collapsed": true
   },
   "outputs": [],
   "source": [
    "narcoticsCrimes = noHeaderCrimeData2.filter(lambda x: \"NARCOTICS\" in x)"
   ]
  },
  {
   "cell_type": "code",
   "execution_count": 29,
   "metadata": {
    "collapsed": false
   },
   "outputs": [
    {
     "data": {
      "text/plain": [
       "663712"
      ]
     },
     "execution_count": 29,
     "metadata": {},
     "output_type": "execute_result"
    }
   ],
   "source": [
    "narcoticsCrimes.count()"
   ]
  },
  {
   "cell_type": "code",
   "execution_count": 30,
   "metadata": {
    "collapsed": false
   },
   "outputs": [
    {
     "data": {
      "text/plain": [
       "[u'10184515,HY372204,08/06/2015 11:55:00 PM,033XX W DIVERSEY AVE,2027,NARCOTICS,POSS: CRACK,STREET,true,false,1412,014,35,22,18,1153440,1918377,2015,08/13/2015 12:57:42 PM,41.931870591,-87.711546895,\"(41.931870591, -87.711546895)\"',\n",
       " u'10184524,HY372200,08/06/2015 11:40:00 PM,002XX W 88TH ST,1811,NARCOTICS,POSS: CANNABIS 30GMS OR LESS,STREET,true,false,0634,006,21,49,18,1175866,1846548,2015,08/13/2015 12:57:42 PM,41.7342901,-87.631292466,\"(41.7342901, -87.631292466)\"',\n",
       " u'10184554,HY372217,08/06/2015 11:38:00 PM,078XX S PAULINA ST,2028,NARCOTICS,POSS: SYNTHETIC DRUGS,STREET,true,false,0611,006,17,71,18,1166342,1852418,2015,08/13/2015 12:57:42 PM,41.750606117,-87.666017303,\"(41.750606117, -87.666017303)\"',\n",
       " u'10184503,HY372179,08/06/2015 11:35:00 PM,019XX N MOZART ST,2022,NARCOTICS,POSS: COCAINE,STREET,true,false,1421,014,35,22,18,1157157,1912657,2015,08/13/2015 12:57:42 PM,41.916099694,-87.698043163,\"(41.916099694, -87.698043163)\"',\n",
       " u'10184527,HY372190,08/06/2015 11:32:00 PM,015XX W HOWARD ST,1811,NARCOTICS,POSS: CANNABIS 30GMS OR LESS,STREET,true,false,2422,024,49,1,18,1164729,1950306,2015,08/13/2015 12:57:42 PM,42.01925275,-87.669151816,\"(42.01925275, -87.669151816)\"',\n",
       " u'10184512,HY372194,08/06/2015 11:30:00 PM,054XX W NORTH AVE,1811,NARCOTICS,POSS: CANNABIS 30GMS OR LESS,VEHICLE NON-COMMERCIAL,true,false,2532,025,37,25,18,1140150,1910150,2015,08/13/2015 12:57:42 PM,41.909548902,-87.760588145,\"(41.909548902, -87.760588145)\"',\n",
       " u'10184523,HY372175,08/06/2015 10:51:00 PM,038XX W NORTH AVE,1811,NARCOTICS,POSS: CANNABIS 30GMS OR LESS,SIDEWALK,true,false,2535,025,30,23,18,1150304,1910396,2015,08/13/2015 12:57:42 PM,41.910031837,-87.723279946,\"(41.910031837, -87.723279946)\"',\n",
       " u'10184476,HY372146,08/06/2015 10:50:00 PM,0000X N KEELER AVE,1811,NARCOTICS,POSS: CANNABIS 30GMS OR LESS,STREET,true,false,1115,011,28,26,18,1148430,1899795,2015,08/13/2015 12:57:42 PM,41.880977936,-87.730437982,\"(41.880977936, -87.730437982)\"',\n",
       " u'10184477,HY372136,08/06/2015 10:45:00 PM,053XX W CHICAGO AVE,1821,NARCOTICS,MANU/DEL:CANNABIS 10GM OR LESS,SIDEWALK,true,false,1524,015,37,25,18,1140456,1904773,2015,08/13/2015 12:57:42 PM,41.894788171,-87.759596124,\"(41.894788171, -87.759596124)\"',\n",
       " u'10184468,HY372144,08/06/2015 10:45:00 PM,002XX E 108TH ST,2028,NARCOTICS,POSS: SYNTHETIC DRUGS,STREET,true,false,0513,005,9,49,18,1179863,1833448,2015,08/13/2015 12:57:42 PM,41.698251605,-87.617048656,\"(41.698251605, -87.617048656)\"',\n",
       " u'10184465,HY372127,08/06/2015 10:28:00 PM,079XX S ASHLAND AVE,1811,NARCOTICS,POSS: CANNABIS 30GMS OR LESS,GAS STATION,true,false,0611,006,21,71,18,1167009,1852265,2015,08/13/2015 12:57:42 PM,41.750172042,-87.66357746,\"(41.750172042, -87.66357746)\"',\n",
       " u'10184487,HY372141,08/06/2015 10:01:00 PM,059XX S MICHIGAN AVE,1812,NARCOTICS,POSS: CANNABIS MORE THAN 30GMS,APARTMENT,true,false,0232,002,20,40,18,1178136,1865583,2015,08/13/2015 12:57:42 PM,41.786473155,-87.622399953,\"(41.786473155, -87.622399953)\"',\n",
       " u'10184488,HY372134,08/06/2015 09:56:00 PM,077XX S SANGAMON ST,2024,NARCOTICS,POSS: HEROIN(WHITE),APARTMENT,true,false,0621,006,17,71,18,1171365,1853218,2015,08/13/2015 12:57:42 PM,41.752693042,-87.647587307,\"(41.752693042, -87.647587307)\"',\n",
       " u'10184422,HY372060,08/06/2015 09:30:00 PM,052XX N CANFIELD AVE,1811,NARCOTICS,POSS: CANNABIS 30GMS OR LESS,ALLEY,true,false,1613,016,41,10,18,1122611,1933632,2015,08/13/2015 12:57:42 PM,41.974289808,-87.824508239,\"(41.974289808, -87.824508239)\"',\n",
       " u'10184429,HY372061,08/06/2015 09:30:00 PM,033XX W FLOURNOY ST,1811,NARCOTICS,POSS: CANNABIS 30GMS OR LESS,SIDEWALK,true,false,1134,011,24,27,18,1154319,1896798,2015,08/13/2015 12:57:42 PM,41.872638297,-87.70889391,\"(41.872638297, -87.70889391)\"',\n",
       " u'10184427,HY372068,08/06/2015 09:18:00 PM,027XX W LE MOYNE ST,1811,NARCOTICS,POSS: CANNABIS 30GMS OR LESS,STREET,true,false,1423,014,26,24,18,1158086,1909904,2015,08/13/2015 12:57:42 PM,41.908526309,-87.694705371,\"(41.908526309, -87.694705371)\"',\n",
       " u'10184388,HY372039,08/06/2015 09:15:00 PM,055XX N NORTHWEST HWY,1811,NARCOTICS,POSS: CANNABIS 30GMS OR LESS,ALLEY,true,false,1622,016,45,11,18,1134995,1936221,2015,08/13/2015 12:57:42 PM,41.981183382,-87.778906209,\"(41.981183382, -87.778906209)\"',\n",
       " u'10184412,HY372034,08/06/2015 08:45:00 PM,028XX S AVERS AVE,1811,NARCOTICS,POSS: CANNABIS 30GMS OR LESS,SIDEWALK,true,false,1031,010,22,30,18,1151215,1884655,2015,08/13/2015 12:57:42 PM,41.839377846,-87.720608322,\"(41.839377846, -87.720608322)\"',\n",
       " u'10184435,HY372066,08/06/2015 08:45:00 PM,046XX S HERMITAGE AVE,1811,NARCOTICS,POSS: CANNABIS 30GMS OR LESS,\"SCHOOL, PRIVATE, GROUNDS\",true,false,0924,009,20,61,18,1165413,1874130,2015,08/13/2015 12:57:42 PM,41.810206364,-87.668806745,\"(41.810206364, -87.668806745)\"',\n",
       " u'10184509,HY372031,08/06/2015 08:30:00 PM,038XX W LEXINGTON ST,2024,NARCOTICS,POSS: HEROIN(WHITE),STREET,true,false,1133,011,24,26,18,1150832,1896381,2015,08/13/2015 12:57:42 PM,41.871562899,-87.721707266,\"(41.871562899, -87.721707266)\"']"
      ]
     },
     "execution_count": 30,
     "metadata": {},
     "output_type": "execute_result"
    }
   ],
   "source": [
    "narcoticsCrimes.take(20)"
   ]
  },
  {
   "cell_type": "code",
   "execution_count": 7,
   "metadata": {
    "collapsed": true
   },
   "outputs": [],
   "source": [
    " narcoticsCrimeRecords = narcoticsCrimes.map(lambda r : r.split(\",\"))"
   ]
  },
  {
   "cell_type": "code",
   "execution_count": 8,
   "metadata": {
    "collapsed": false
   },
   "outputs": [
    {
     "data": {
      "text/plain": [
       "[u'10184515',\n",
       " u'HY372204',\n",
       " u'08/06/2015 11:55:00 PM',\n",
       " u'033XX W DIVERSEY AVE',\n",
       " u'2027',\n",
       " u'NARCOTICS',\n",
       " u'POSS: CRACK',\n",
       " u'STREET',\n",
       " u'true',\n",
       " u'false',\n",
       " u'1412',\n",
       " u'014',\n",
       " u'35',\n",
       " u'22',\n",
       " u'18',\n",
       " u'1153440',\n",
       " u'1918377',\n",
       " u'2015',\n",
       " u'08/13/2015 12:57:42 PM',\n",
       " u'41.931870591',\n",
       " u'-87.711546895',\n",
       " u'\"(41.931870591',\n",
       " u' -87.711546895)\"']"
      ]
     },
     "execution_count": 8,
     "metadata": {},
     "output_type": "execute_result"
    }
   ],
   "source": [
    "narcoticsCrimeRecords.first()"
   ]
  },
  {
   "cell_type": "code",
   "execution_count": 12,
   "metadata": {
    "collapsed": false
   },
   "outputs": [
    {
     "data": {
      "text/plain": [
       "663712"
      ]
     },
     "execution_count": 12,
     "metadata": {},
     "output_type": "execute_result"
    }
   ],
   "source": [
    " narcoticsCrimeRecords.count()"
   ]
  },
  {
   "cell_type": "markdown",
   "metadata": {},
   "source": [
    "### Step 4.\tKey Values"
   ]
  },
  {
   "cell_type": "code",
   "execution_count": 16,
   "metadata": {
    "collapsed": false
   },
   "outputs": [],
   "source": [
    "##original, keeps the key in the tuple\n",
    "narcoticsCrimeTuples = narcoticsCrimes.map(lambda x:(x.split(\",\")[0], x))\n",
    "\n",
    "##original, exclude the key from second value in the tuple\n",
    "narcoticsCrimeTuplesfixed = narcoticsCrimes.map(lambda x:(x.split(\",\")[0],  ', '.join(x.split(\",\")[1:])))\n"
   ]
  },
  {
   "cell_type": "code",
   "execution_count": 18,
   "metadata": {
    "collapsed": false
   },
   "outputs": [
    {
     "name": "stdout",
     "output_type": "stream",
     "text": [
      "[(u'10184515', u'HY372204, 08/06/2015 11:55:00 PM, 033XX W DIVERSEY AVE, 2027, NARCOTICS, POSS: CRACK, STREET, true, false, 1412, 014, 35, 22, 18, 1153440, 1918377, 2015, 08/13/2015 12:57:42 PM, 41.931870591, -87.711546895, \"(41.931870591,  -87.711546895)\"')]\n"
     ]
    }
   ],
   "source": [
    "print narcoticsCrimeTuplesfixed.take(1)"
   ]
  },
  {
   "cell_type": "code",
   "execution_count": 20,
   "metadata": {
    "collapsed": true
   },
   "outputs": [],
   "source": [
    "firstTuple=narcoticsCrimeTuples.first()"
   ]
  },
  {
   "cell_type": "code",
   "execution_count": 21,
   "metadata": {
    "collapsed": false
   },
   "outputs": [
    {
     "data": {
      "text/plain": [
       "2"
      ]
     },
     "execution_count": 21,
     "metadata": {},
     "output_type": "execute_result"
    }
   ],
   "source": [
    "len(firstTuple)"
   ]
  },
  {
   "cell_type": "code",
   "execution_count": 23,
   "metadata": {
    "collapsed": false
   },
   "outputs": [
    {
     "data": {
      "text/plain": [
       "u'10184515,HY372204,08/06/2015 11:55:00 PM,033XX W DIVERSEY AVE,2027,NARCOTICS,POSS: CRACK,STREET,true,false,1412,014,35,22,18,1153440,1918377,2015,08/13/2015 12:57:42 PM,41.931870591,-87.711546895,\"(41.931870591, -87.711546895)\"'"
      ]
     },
     "execution_count": 23,
     "metadata": {},
     "output_type": "execute_result"
    }
   ],
   "source": [
    "firstTuple[1]\n",
    "##firstTuple[1]"
   ]
  },
  {
   "cell_type": "code",
   "execution_count": 24,
   "metadata": {
    "collapsed": true
   },
   "outputs": [],
   "source": [
    "sorted_tuple = narcoticsCrimeTuplesfixed.sortByKey()\n",
    "\n",
    "##sorted.first()\n",
    "##%reset_selective narcoticsCrimeRecords\n",
    "##narcoticsCrimeRecords.unpersist()"
   ]
  },
  {
   "cell_type": "markdown",
   "metadata": {},
   "source": [
    "#### Submission 1"
   ]
  },
  {
   "cell_type": "code",
   "execution_count": 25,
   "metadata": {
    "collapsed": false
   },
   "outputs": [
    {
     "data": {
      "text/plain": [
       "(u'10000014',\n",
       " u'HY189846, 03/18/2015 05:52:00 PM, 107XX S EGGLESTON AVE, 1822, NARCOTICS, MANU/DEL:CANNABIS OVER 10 GMS, RESIDENCE, true, false, 2233, 022, 34, 49, 18, 1175162, 1833372, 2015, 03/25/2015 12:42:30 PM, 41.698149046, -87.634263523, \"(41.698149046,  -87.634263523)\"')"
      ]
     },
     "execution_count": 25,
     "metadata": {},
     "output_type": "execute_result"
    }
   ],
   "source": [
    "sorted_tuple.first()"
   ]
  },
  {
   "cell_type": "code",
   "execution_count": 26,
   "metadata": {
    "collapsed": false
   },
   "outputs": [
    {
     "data": {
      "text/plain": [
       "(u'10184515',\n",
       " u'HY372204, 08/06/2015 11:55:00 PM, 033XX W DIVERSEY AVE, 2027, NARCOTICS, POSS: CRACK, STREET, true, false, 1412, 014, 35, 22, 18, 1153440, 1918377, 2015, 08/13/2015 12:57:42 PM, 41.931870591, -87.711546895, \"(41.931870591,  -87.711546895)\"')"
      ]
     },
     "execution_count": 26,
     "metadata": {},
     "output_type": "execute_result"
    }
   ],
   "source": [
    "narcoticsCrimeTuplesfixed.first()"
   ]
  },
  {
   "cell_type": "code",
   "execution_count": null,
   "metadata": {
    "collapsed": true
   },
   "outputs": [],
   "source": [
    "##You could change your code to as I did earlier\n",
    "narcoticsCrimeTuplesfixed = narcoticsCrimes.map(lambda x:(x.split(\",\")[0],  ', '.join(x.split(\",\")[1:])))\n"
   ]
  },
  {
   "cell_type": "markdown",
   "metadata": {},
   "source": [
    "#### Attempt to connect to Hive"
   ]
  },
  {
   "cell_type": "code",
   "execution_count": 27,
   "metadata": {
    "collapsed": true
   },
   "outputs": [],
   "source": [
    "from pyspark.sql import HiveContext\n",
    "sqlContext = HiveContext(sc)\n",
    "!which hive\n",
    "sqlContext.sql(\"SHOW TABLES\") ##not connecte to hive\n",
    "##probably have to follow steps here https://getblueshift.com/connecting-hive-and-spark-on-aws-in-five-easy-steps/\n",
    "sqlContext.sql(\"show databases\")"
   ]
  },
  {
   "cell_type": "markdown",
   "metadata": {},
   "source": [
    "###Step 7 Accessing\tSpark SQL in Python Code"
   ]
  },
  {
   "cell_type": "code",
   "execution_count": 33,
   "metadata": {
    "collapsed": true
   },
   "outputs": [],
   "source": [
    "from pyspark.sql import SQLContext\n",
    "from pyspark.sql.types import *"
   ]
  },
  {
   "cell_type": "code",
   "execution_count": 34,
   "metadata": {
    "collapsed": true
   },
   "outputs": [],
   "source": [
    "sqlContext = SQLContext(sc)"
   ]
  },
  {
   "cell_type": "code",
   "execution_count": 35,
   "metadata": {
    "collapsed": false
   },
   "outputs": [
    {
     "name": "stdout",
     "output_type": "stream",
     "text": [
      "DATASCI W205 - An introduction to Apache?Spark and Spark SQL - lab 6 - Greg Ceccarelli.ipynb\r\n",
      "derby.log\r\n",
      "\u001b[0m\u001b[38;5;27mmetastore_db\u001b[0m/\r\n",
      "week6-class.ipynb\r\n",
      "\u001b[m"
     ]
    }
   ],
   "source": [
    "ls"
   ]
  },
  {
   "cell_type": "code",
   "execution_count": 36,
   "metadata": {
    "collapsed": false
   },
   "outputs": [
    {
     "name": "stdout",
     "output_type": "stream",
     "text": [
      "Anaconda-2.3.0-Linux-x86_64.sh   derby.log            \u001b[0m\u001b[38;5;27mlib\u001b[0m/\r\n",
      "Crimes_-_2001_to_present.csv     \u001b[38;5;27metc\u001b[0m/                 \u001b[38;5;27mlib64\u001b[0m/\r\n",
      "\u001b[38;5;27mPython-2.7.6\u001b[0m/                    \u001b[38;5;27mfiles\u001b[0m/               \u001b[38;5;27mlibexec\u001b[0m/\r\n",
      "\u001b[38;5;9mPython-2.7.6.tar.xz\u001b[0m              \u001b[38;5;27mgames\u001b[0m/               \u001b[38;5;27msbin\u001b[0m/\r\n",
      "\u001b[38;5;27mbin\u001b[0m/                             \u001b[38;5;27minclude\u001b[0m/             \u001b[38;5;27mshare\u001b[0m/\r\n",
      "\u001b[38;5;27mcertificates\u001b[0m/                    ipythonpass.txt      \u001b[38;5;27msrc\u001b[0m/\r\n",
      "\u001b[38;5;34mcloudera-manager-installer.bin\u001b[0m*  \u001b[38;5;27mkafka_2.10-0.8.2.1\u001b[0m/  \u001b[38;5;27mw205-labs-exercises\u001b[0m/\r\n",
      "\u001b[m"
     ]
    }
   ],
   "source": [
    "ls /usr/local/"
   ]
  },
  {
   "cell_type": "code",
   "execution_count": 37,
   "metadata": {
    "collapsed": true
   },
   "outputs": [],
   "source": [
    " lines = sc.textFile('/usr/local/w205-labs-exercises/data/weblog_lab.csv')"
   ]
  },
  {
   "cell_type": "code",
   "execution_count": 38,
   "metadata": {
    "collapsed": true
   },
   "outputs": [],
   "source": [
    "parts = lines.map(lambda l: l.split('\\t'))"
   ]
  },
  {
   "cell_type": "code",
   "execution_count": 40,
   "metadata": {
    "collapsed": false
   },
   "outputs": [],
   "source": [
    "Web_Session_Log = parts.map(lambda p: (p[0], p[1],p[2],\n",
    "p[3],p[4]))"
   ]
  },
  {
   "cell_type": "code",
   "execution_count": 41,
   "metadata": {
    "collapsed": false
   },
   "outputs": [
    {
     "data": {
      "text/plain": [
       "PythonRDD[30] at RDD at PythonRDD.scala:42"
      ]
     },
     "execution_count": 41,
     "metadata": {},
     "output_type": "execute_result"
    }
   ],
   "source": [
    "Web_Session_Log"
   ]
  },
  {
   "cell_type": "code",
   "execution_count": 42,
   "metadata": {
    "collapsed": false
   },
   "outputs": [
    {
     "data": {
      "text/plain": [
       "(u'date', u'userid', u'sessionid', u'productid', u'refererurl')"
      ]
     },
     "execution_count": 42,
     "metadata": {},
     "output_type": "execute_result"
    }
   ],
   "source": [
    "Web_Session_Log.first()"
   ]
  },
  {
   "cell_type": "code",
   "execution_count": 43,
   "metadata": {
    "collapsed": true
   },
   "outputs": [],
   "source": [
    " schemaString = 'DATETIME USERID SESSIONID PRODUCTID REFERERURL'"
   ]
  },
  {
   "cell_type": "code",
   "execution_count": 44,
   "metadata": {
    "collapsed": true
   },
   "outputs": [],
   "source": [
    "fields = [StructField(field_name, StringType(), True) for field_name in schemaString.split()]"
   ]
  },
  {
   "cell_type": "code",
   "execution_count": 45,
   "metadata": {
    "collapsed": false
   },
   "outputs": [
    {
     "data": {
      "text/plain": [
       "[StructField(DATETIME,StringType,true),\n",
       " StructField(USERID,StringType,true),\n",
       " StructField(SESSIONID,StringType,true),\n",
       " StructField(PRODUCTID,StringType,true),\n",
       " StructField(REFERERURL,StringType,true)]"
      ]
     },
     "execution_count": 45,
     "metadata": {},
     "output_type": "execute_result"
    }
   ],
   "source": [
    "fields"
   ]
  },
  {
   "cell_type": "code",
   "execution_count": 47,
   "metadata": {
    "collapsed": false
   },
   "outputs": [],
   "source": [
    "schema = StructType(fields)"
   ]
  },
  {
   "cell_type": "code",
   "execution_count": 48,
   "metadata": {
    "collapsed": false
   },
   "outputs": [
    {
     "data": {
      "text/plain": [
       "StructType(List(StructField(DATETIME,StringType,true),StructField(USERID,StringType,true),StructField(SESSIONID,StringType,true),StructField(PRODUCTID,StringType,true),StructField(REFERERURL,StringType,true)))"
      ]
     },
     "execution_count": 48,
     "metadata": {},
     "output_type": "execute_result"
    }
   ],
   "source": [
    "schema"
   ]
  },
  {
   "cell_type": "code",
   "execution_count": 50,
   "metadata": {
    "collapsed": false
   },
   "outputs": [],
   "source": [
    " schemaWebData = sqlContext.createDataFrame(Web_Session_Log, schema)"
   ]
  },
  {
   "cell_type": "code",
   "execution_count": 52,
   "metadata": {
    "collapsed": false
   },
   "outputs": [],
   "source": [
    "schemaWebData.registerTempTable('Web_Session_Log')"
   ]
  },
  {
   "cell_type": "code",
   "execution_count": 53,
   "metadata": {
    "collapsed": true
   },
   "outputs": [],
   "source": [
    " results = sqlContext.sql('SELECT count(*) FROM Web_Session_Log')"
   ]
  },
  {
   "cell_type": "markdown",
   "metadata": {},
   "source": [
    "####Submission 2 & 3"
   ]
  },
  {
   "cell_type": "code",
   "execution_count": 59,
   "metadata": {
    "collapsed": false
   },
   "outputs": [
    {
     "name": "stdout",
     "output_type": "stream",
     "text": [
      "c0   \n",
      "40002\n"
     ]
    }
   ],
   "source": [
    "results.head()\n",
    "results.show()\n",
    "##sqlContext.sql('SELECT count(*) FROM Web_Session_Log')"
   ]
  },
  {
   "cell_type": "code",
   "execution_count": 60,
   "metadata": {
    "collapsed": true
   },
   "outputs": [],
   "source": [
    " resultsEbay = sqlContext.sql('select count(*) from Web_Session_Log where REFERERURL = \"http://www.ebay.com\"')"
   ]
  },
  {
   "cell_type": "code",
   "execution_count": 61,
   "metadata": {
    "collapsed": false
   },
   "outputs": [
    {
     "name": "stdout",
     "output_type": "stream",
     "text": [
      "c0  \n",
      "3943\n"
     ]
    }
   ],
   "source": [
    "resultsEbay.show()"
   ]
  },
  {
   "cell_type": "code",
   "execution_count": null,
   "metadata": {
    "collapsed": true
   },
   "outputs": [],
   "source": []
  }
 ],
 "metadata": {
  "kernelspec": {
   "display_name": "Python 2",
   "language": "python",
   "name": "python2"
  },
  "language_info": {
   "codemirror_mode": {
    "name": "ipython",
    "version": 2
   },
   "file_extension": ".py",
   "mimetype": "text/x-python",
   "name": "python",
   "nbconvert_exporter": "python",
   "pygments_lexer": "ipython2",
   "version": "2.7.10"
  }
 },
 "nbformat": 4,
 "nbformat_minor": 0
}
